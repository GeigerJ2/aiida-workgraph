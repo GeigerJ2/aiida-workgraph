{
  "cells": [
    {
      "cell_type": "markdown",
      "metadata": {},
      "source": [
        "\n# AiiDA-WorkGraph: From Zero To Hero\n"
      ]
    },
    {
      "cell_type": "markdown",
      "metadata": {},
      "source": [
        "In this tutorial, you will learn `AiiDA-WorkGraph` to build your workflow to carry out DFT calculation. It's recommended to run this tutorial inside a Jupyter notebook.\n\n## Requirements\nTo run this tutorial, you need to install `aiida-workgraph`, `aiida-quantumespresso`. Open a terminal and run:\n\n```console\npip install aiida-workgraph aiida-quantumespresso\n```\nRestart (or start) the AiiDA daemon if needed:\n\n```console\nverdi daemon restart\n```\nLoad the AiiDA profile.\n\n\n"
      ]
    },
    {
      "cell_type": "code",
      "execution_count": null,
      "metadata": {
        "collapsed": false
      },
      "outputs": [],
      "source": [
        "from aiida import load_profile\n\nload_profile()\n#"
      ]
    },
    {
      "cell_type": "markdown",
      "metadata": {},
      "source": [
        "## First workflow\nSuppose we want to calculate ```(x + y) * z ``` in two steps. First, add `x` and `y`, then multiply the result with `z`.\n\n\n"
      ]
    },
    {
      "cell_type": "code",
      "execution_count": null,
      "metadata": {
        "collapsed": false
      },
      "outputs": [],
      "source": [
        "from aiida_workgraph import task\n\n\n@task()\ndef add(x, y):\n    return x + y\n\n\n@task()\ndef multiply(x, y):\n    return x * y"
      ]
    },
    {
      "cell_type": "markdown",
      "metadata": {},
      "source": [
        "### Create the workflow\nThree steps:\n\n- create a empty WorkGraph\n- add tasks: `add` and `multiply`.\n- link the output of the `add` task to the `x` input of the `multiply` task.\n\n\nIn a jupyter notebook, you can visualize the workgraph directly.\n\n\n"
      ]
    },
    {
      "cell_type": "code",
      "execution_count": null,
      "metadata": {
        "collapsed": false
      },
      "outputs": [],
      "source": [
        "from aiida_workgraph import WorkGraph\n\n#\nwg = WorkGraph(\"add_multiply_workflow\")\nwg.add_task(add, name=\"add1\")\nwg.add_task(multiply, name=\"multiply1\", x=wg.tasks.add1.outputs.result)\n# export the workgraph to html file so that it can be visualized in a browser\nwg.to_html()\n# visualize the workgraph in jupyter-notebook\n# wg\n#"
      ]
    },
    {
      "cell_type": "markdown",
      "metadata": {},
      "source": [
        "### Submit the workgraph\n\n\n"
      ]
    },
    {
      "cell_type": "code",
      "execution_count": null,
      "metadata": {
        "collapsed": false
      },
      "outputs": [],
      "source": [
        "from aiida_workgraph.utils import generate_node_graph\nfrom aiida.orm import Int\n\n#\n# ------------------------- Submit the calculation -------------------\nwg.submit(\n    inputs={\"add1\": {\"x\": Int(2), \"y\": Int(3)}, \"multiply1\": {\"y\": Int(4)}}, wait=True\n)\n# ------------------------- Print the output -------------------------\nassert wg.tasks.multiply1.outputs.result.value == 20\nprint(\n    \"\\nResult of multiply1 is {} \\n\\n\".format(wg.tasks.multiply1.outputs.result.value)\n)\n# ------------------------- Generate node graph -------------------\ngenerate_node_graph(wg.pk)\n#"
      ]
    },
    {
      "cell_type": "markdown",
      "metadata": {},
      "source": [
        "## CalcJob and WorkChain\nOne can use AiiDA components (``CalcJob`` and ``WorkChain``). The inputs and outputs of the task is automatically generated based on the input and output port of the AiiDA component.\n\nHere is an example of using the `ArithmeticAddCalculation` Calcjob inside the workgraph. Suppose we want to calculate ```(x + y) + z ``` in two steps.\n\n\n"
      ]
    },
    {
      "cell_type": "code",
      "execution_count": null,
      "metadata": {
        "collapsed": false
      },
      "outputs": [],
      "source": [
        "from aiida_workgraph import WorkGraph\nfrom aiida.calculations.arithmetic.add import ArithmeticAddCalculation\n\n#\nwg = WorkGraph(\"test_calcjob\")\nnew = wg.add_task\nnew(ArithmeticAddCalculation, name=\"add1\")\nwg.add_task(ArithmeticAddCalculation, name=\"add2\", x=wg.tasks.add1.outputs.sum)\nwg.to_html()\n#"
      ]
    },
    {
      "cell_type": "markdown",
      "metadata": {},
      "source": [
        "### Inspect the node\nHow do I know which input and output to connect?\n\nThe inputs and outputs of a task are generated automatically based on the inputs/outputs of the AiiDA component. WorkGraph also has some built-in ports, like `_wait` and `_outputs`.  One can inpsect a task's inputs and outputs.\n\nNote: special case for `calcfunction`, the default name of its output is `result`.\n\n\n"
      ]
    },
    {
      "cell_type": "code",
      "execution_count": null,
      "metadata": {
        "collapsed": false
      },
      "outputs": [],
      "source": [
        "# visualize the task\nwg.tasks.add1.to_html()\n#"
      ]
    },
    {
      "cell_type": "markdown",
      "metadata": {},
      "source": [
        "## First Real-world Workflow: atomization energy of molecule\n\nThe atomization energy, $\\Delta E$, of a molecule can be expressed as:\n\n\\begin{align}\\Delta E = n_{\\text{atom}} \\times E_{\\text{atom}} - E_{\\text{molecule}}\\end{align}\n\nWhere:\n\n- $\\Delta E$ is the atomization energy of the molecule.\n- $n_{\\text{atom}}$ is the number of atoms.\n- $E_{\\text{atom}}$ is the energy of an isolated atom.\n- $E_{\\text{molecule}}$ is the energy of the molecule.\n\n### Define a workgraph\naiida-quantumespresso provides `PwCalculation` CalcJob and `PwBaseWorkChain` to run a PW calculation. we can use it directly in the WorkGraph. Here we use the `PwCalculation` CalcJob.\n\n\n"
      ]
    },
    {
      "cell_type": "code",
      "execution_count": null,
      "metadata": {
        "collapsed": false
      },
      "outputs": [],
      "source": [
        "from aiida_workgraph import WorkGraph\nfrom aiida_quantumespresso.calculations.pw import PwCalculation\n\n\n@task()\ndef atomization_energy(output_atom, output_mol):\n    from aiida.orm import Float\n\n    e = output_atom[\"energy\"] * output_mol[\"number_of_atoms\"] - output_mol[\"energy\"]\n    return Float(e)\n\n\n#\nwg = WorkGraph(\"atomization_energy\")\npw_atom = wg.add_task(PwCalculation, name=\"pw_atom\")\npw_mol = wg.add_task(PwCalculation, name=\"pw_mol\")\n# create the task to calculate the atomization energy\nwg.add_task(\n    atomization_energy,\n    name=\"atomization_energy\",\n    output_atom=pw_atom.outputs.output_parameters,\n    output_mol=pw_mol.outputs.output_parameters,\n)\n# export the workgraph to html file so that it can be visualized in a browser\nwg.to_html()\n# visualize the workgraph in jupyter-notebook\n# wg\n#"
      ]
    },
    {
      "cell_type": "markdown",
      "metadata": {},
      "source": [
        "### Prepare the inputs and submit the workflow\nYou need to set up the code, computer, and pseudo potential for the calculation. Please refer to the this [documentation](https://aiida-quantumespresso.readthedocs.io/en/latest/installation/index.html) for more details.\n\nYou can also stip this step.\n\n\n"
      ]
    },
    {
      "cell_type": "code",
      "execution_count": null,
      "metadata": {
        "collapsed": false
      },
      "outputs": [],
      "source": [
        "from aiida import load_profile\nfrom aiida.common.exceptions import NotExistent\nfrom aiida.orm import (\n    Dict,\n    KpointsData,\n    StructureData,\n    load_code,\n    load_group,\n    InstalledCode,\n    load_computer,\n)\nfrom ase.build import molecule\nfrom ase import Atoms\n\n#\nload_profile()\n# create pw code\ntry:\n    pw_code = load_code(\n        \"qe-7.2-pw@localhost\"\n    )  # The computer label can also be omitted here\nexcept NotExistent:\n    pw_code = InstalledCode(\n        computer=load_computer(\"localhost\"),\n        filepath_executable=\"pw.x\",\n        label=\"qe-7.2-pw\",\n        default_calc_job_plugin=\"quantumespresso.pw\",\n    ).store()\n# create structure\nn_atom = Atoms(\"N\")\nn_atom.center(vacuum=1.5)\nn_atom.pbc = True\nstructure_n = StructureData(ase=n_atom)\nstructure_n2 = StructureData(ase=molecule(\"N2\", vacuum=1.5, pbc=True))\n# create the PW task\nparas = Dict(\n    {\n        \"CONTROL\": {\n            \"calculation\": \"scf\",\n        },\n        \"SYSTEM\": {\n            \"ecutwfc\": 30,\n            \"ecutrho\": 240,\n            \"occupations\": \"smearing\",\n            \"smearing\": \"gaussian\",\n            \"degauss\": 0.1,\n        },\n    }\n)\nkpoints = KpointsData()\nkpoints.set_kpoints_mesh([1, 1, 1])\n# Load the pseudopotential family.\npseudo_family = load_group(\"SSSP/1.3/PBEsol/efficiency\")\npseudos = pseudo_family.get_pseudos(structure=structure_n2)\n#\nmetadata = {\n    \"options\": {\n        \"resources\": {\n            \"num_machines\": 1,\n            \"num_mpiprocs_per_machine\": 1,\n        },\n    }\n}\n#\n# ------------------------- Set the inputs -------------------------\nwg.tasks.pw_atom.set(\n    {\n        \"code\": pw_code,\n        \"structure\": structure_n,\n        \"parameters\": paras,\n        \"kpoints\": kpoints,\n        \"pseudos\": pseudos,\n        \"metadata\": metadata,\n    }\n)\nwg.tasks.pw_mol.set(\n    {\n        \"code\": pw_code,\n        \"structure\": structure_n2,\n        \"parameters\": paras,\n        \"kpoints\": kpoints,\n        \"pseudos\": pseudos,\n        \"metadata\": metadata,\n    }\n)\n# ------------------------- Submit the calculation -------------------\nwg.submit(wait=True, timeout=200)\n# ------------------------- Print the output -------------------------\nprint(\n    \"Energy of a N atom:                  {:0.3f}\".format(\n        wg.tasks.pw_atom.outputs.output_parameters.value.get_dict()[\"energy\"]\n    )\n)\nprint(\n    \"Energy of an un-relaxed N2 molecule: {:0.3f}\".format(\n        wg.tasks.pw_mol.outputs.output_parameters.value.get_dict()[\"energy\"]\n    )\n)\nprint(\n    \"Atomization energy:                  {:0.3f} eV\".format(\n        wg.tasks.atomization_energy.outputs.result.value.value\n    )\n)\n#"
      ]
    },
    {
      "cell_type": "markdown",
      "metadata": {},
      "source": [
        "Generate node graph from the AiiDA process:\n\n\n"
      ]
    },
    {
      "cell_type": "code",
      "execution_count": null,
      "metadata": {
        "collapsed": false
      },
      "outputs": [],
      "source": [
        "from aiida_workgraph.utils import generate_node_graph\n\ngenerate_node_graph(wg.pk)\n#"
      ]
    },
    {
      "cell_type": "markdown",
      "metadata": {},
      "source": [
        "## Advanced Topic: Dynamic Workgraph\n\n### Graph builder\nIf we want to generate the workgraph on-the-fly, for example, if you want to use `if` to create the tasks, or repeat a calculation until it converges, you can use Graph Builder.\n\nSuppose we want to calculate:\n\n```python\n# step 1\nresult = add(x, y)\n# step 2\nif result > 0:\n    result = add(result, y)\nelse:\n    result = multiply(result, y)\n# step 3\nresult = add(result, y)\n```\n"
      ]
    },
    {
      "cell_type": "code",
      "execution_count": null,
      "metadata": {
        "collapsed": false
      },
      "outputs": [],
      "source": [
        "# Create a WorkGraph which is dynamically generated based on the input\n# then we output the result of from the context\nfrom aiida_workgraph import task\n\n#\n@task.graph_builder(outputs=[{\"name\": \"result\"}])\ndef add_multiply_if_generator(x, y):\n    wg = WorkGraph()\n    if x.value > 0:\n        add1 = wg.add_task(add, name=\"add1\", x=x, y=y)\n        # export the result of add1 to the context, so that context.result = add1.results\n        wg.update_ctx({\"result\": add1.outputs.result})\n    else:\n        multiply1 = wg.add_task(multiply, name=\"multiply1\", x=x, y=y)\n        # export the result of multiply1 to the context\n        wg.update_ctx({\"result\": multiply1.outputs.result})\n    wg.outputs.result = wg.ctx.result\n    return wg\n\n\n#\nwg = WorkGraph(\"if_task\")\nwg.add_task(add, name=\"add1\")\nwg.add_task(\n    add_multiply_if_generator,\n    name=\"add_multiply_if1\",\n    x=wg.tasks.add1.outputs.result,\n)\nwg.add_task(add, name=\"add2\", x=wg.tasks.add_multiply_if1.outputs.result)\nwg.to_html()\n#"
      ]
    },
    {
      "cell_type": "markdown",
      "metadata": {},
      "source": [
        "Submit the WorkGraph\n\n"
      ]
    },
    {
      "cell_type": "code",
      "execution_count": null,
      "metadata": {
        "collapsed": false
      },
      "outputs": [],
      "source": [
        "wg.submit(\n    inputs={\n        \"add1\": {\"x\": 1, \"y\": 2},\n        \"add_multiply_if1\": {\"y\": 2},\n        \"add2\": {\"y\": 2},\n    },\n    wait=True,\n)\n# ------------------------- Print the output -------------------------\nprint(\"result: \", wg.tasks.add2.outputs.result.value)\nassert wg.tasks.add2.outputs.result.value == 7\nprint(\"\\nResult of add2 is {} \\n\\n\".format(wg.tasks.add2.outputs.result.value))\n#"
      ]
    },
    {
      "cell_type": "markdown",
      "metadata": {},
      "source": [
        "Note: one can not see the detail of the `add_multiply_if1` before you running it.\n\n## Second Real-world Workflow: Equation of state (EOS) WorkGraph\n\nFirst, create the task.\n\n\n"
      ]
    },
    {
      "cell_type": "code",
      "execution_count": null,
      "metadata": {
        "collapsed": false
      },
      "outputs": [],
      "source": [
        "from aiida import orm\nfrom aiida_workgraph import task\n\n#\n# explicitly define the output socket name to match the return value of the function\n@task(outputs=[{\"name\": \"structures\"}])\ndef scale_structure(structure, scales):\n    \"\"\"Scale the structure by the given scales.\"\"\"\n    atoms = structure.get_ase()\n    structures = {}\n    for i in range(len(scales)):\n        atoms1 = atoms.copy()\n        atoms1.set_cell(atoms.cell * scales[i], scale_atoms=True)\n        structure = orm.StructureData(ase=atoms1)\n        structures[f\"s_{i}\"] = structure\n    return {\"structures\": structures}\n\n\n#\n# Output result from context to the output socket\n@task.graph_builder(outputs=[{\"name\": \"result\"}])\ndef all_scf(structures, scf_inputs):\n    \"\"\"Run the scf calculation for each structure.\"\"\"\n    from aiida_workgraph import WorkGraph\n    from aiida_quantumespresso.calculations.pw import PwCalculation\n\n    wg = WorkGraph()\n    for key, structure in structures.items():\n        pw1 = wg.add_task(PwCalculation, name=f\"pw1_{key}\", structure=structure)\n        pw1.set(scf_inputs)\n        # save the output parameters to the context\n        wg.update_ctx({f\"result.{key}\": pw1.outputs.output_parameters})\n    wg.outputs.result = wg.ctx.result\n    return wg\n\n\n#\n\n\n@task()\n# because the input datas are dynamic, we need use **datas.\ndef eos(**datas):\n    \"\"\"Fit the EOS of the data.\"\"\"\n    from ase.eos import EquationOfState\n\n    #\n    volumes = []\n    energies = []\n    for _, data in datas.items():\n        volumes.append(data.dict.volume)\n        energies.append(data.dict.energy)\n        unit = data.dict.energy_units\n    #\n    eos = EquationOfState(volumes, energies)\n    v0, e0, B = eos.fit()\n    eos = orm.Dict({\"unit\": unit, \"v0\": v0, \"e0\": e0, \"B\": B})\n    return eos"
      ]
    },
    {
      "cell_type": "markdown",
      "metadata": {},
      "source": [
        "### Define the WorkGraph\n\n\n"
      ]
    },
    {
      "cell_type": "code",
      "execution_count": null,
      "metadata": {
        "collapsed": false
      },
      "outputs": [],
      "source": [
        "from aiida_workgraph import WorkGraph\n\n#\nwg = WorkGraph(\"eos\")\nscale_structure1 = wg.add_task(scale_structure, name=\"scale_structure1\")\nall_scf1 = wg.add_task(\n    all_scf, name=\"all_scf1\", structures=scale_structure1.outputs.structures\n)\neos1 = wg.add_task(eos, name=\"eos1\", datas=all_scf1.outputs.result)\nwg.to_html()\n#"
      ]
    },
    {
      "cell_type": "markdown",
      "metadata": {},
      "source": [
        "### Combine with a relax task\n\n\n"
      ]
    },
    {
      "cell_type": "code",
      "execution_count": null,
      "metadata": {
        "collapsed": false
      },
      "outputs": [],
      "source": [
        "from aiida_workgraph import WorkGraph, task\nfrom aiida_quantumespresso.calculations.pw import PwCalculation\n\n#\n@task.graph_builder(outputs=[{\"name\": \"result\"}])\ndef eos_workgraph(structure=None, scales=None, scf_inputs=None):\n    wg = WorkGraph(\"eos\")\n    scale_structure1 = wg.add_task(\n        scale_structure, name=\"scale_structure1\", structure=structure, scales=scales\n    )\n    all_scf1 = wg.add_task(all_scf, name=\"all_scf1\", scf_inputs=scf_inputs)\n    eos1 = wg.add_task(eos, name=\"eos1\")\n    wg.add_link(scale_structure1.outputs.structures, all_scf1.inputs.structures)\n    wg.add_link(all_scf1.outputs.result, eos1.inputs.datas)\n    wg.outputs.result = wg.ctx.eos1.result\n    return wg\n\n\n#\n\n# -------------------------------------------------------\nwg = WorkGraph(\"relax_eos\")\nrelax_task = wg.add_task(PwCalculation, name=\"relax1\")\neos_wg_task = wg.add_task(\n    eos_workgraph, name=\"eos1\", structure=relax_task.outputs.output_structure\n)\nwg.to_html()"
      ]
    },
    {
      "cell_type": "markdown",
      "metadata": {},
      "source": [
        "## Useful tool: Web GUI\nOpen a terminal, and run:\n\n```console\nworkgraph web start\n```\nThen visit the page `http://127.0.0.1:8000/workgraph`, where you can view all the workgraphs.\n\n## What's Next\n\n+-----------------------------------------------------+-----------------------------------------------------------------------------+\n| [Concepts](../../concept/index.html)              | A brief introduction of WorkGraph\u2019s main concepts.                          |\n+-----------------------------------------------------+-----------------------------------------------------------------------------+\n| [HowTo](../../howto/index.html)                   | Advanced topics, e.g., flow control using `if`, `while`, and `context`.     |\n+-----------------------------------------------------+-----------------------------------------------------------------------------+\n\n\n"
      ]
    }
  ],
  "metadata": {
    "kernelspec": {
      "display_name": "Python 3",
      "language": "python",
      "name": "python3"
    },
    "language_info": {
      "codemirror_mode": {
        "name": "ipython",
        "version": 3
      },
      "file_extension": ".py",
      "mimetype": "text/x-python",
      "name": "python",
      "nbconvert_exporter": "python",
      "pygments_lexer": "ipython3",
      "version": "3.10.12"
    }
  },
  "nbformat": 4,
  "nbformat_minor": 0
}