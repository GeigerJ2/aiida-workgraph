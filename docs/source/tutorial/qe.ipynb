{
 "cells": [
  {
   "cell_type": "markdown",
   "id": "22d177dc-6cfb-4de2-9509-f1eb45e10cf2",
   "metadata": {},
   "source": [
    "# Computational materials science"
   ]
  },
  {
   "cell_type": "markdown",
   "id": "a559242a",
   "metadata": {},
   "source": [
    "## Introduction\n",
    "In this tutorial, you will use `AiiDA-WorkTree` to carry out a DFT calculation using Quantum ESPRESSO."
   ]
  },
  {
   "cell_type": "markdown",
   "id": "58696c91",
   "metadata": {},
   "source": [
    "## Requirements\n",
    "To run this tutorial, you need to install `aiida-worktree`, `aiida-quantumespresso` and `aiida-pseudo`. Open a terminal and run:\n",
    "\n",
    "```console\n",
    "pip install aiida-worktree aiida-quantumespresso aiida-pseudo\n",
    "aiida-pseudo install sssp -x PBEsol\n",
    "```\n",
    "\n",
    "Start the AiiDA daemon if needed:\n",
    "```console\n",
    "verdi daemon start\n",
    "```\n",
    "\n",
    "Load the AiiDA profile."
   ]
  },
  {
   "cell_type": "code",
   "execution_count": 1,
   "id": "bfffb91f",
   "metadata": {},
   "outputs": [
    {
     "data": {
      "text/plain": [
       "Profile<uuid='2fc245067596472e99d07ed3a64b1140' name='aiida'>"
      ]
     },
     "execution_count": 1,
     "metadata": {},
     "output_type": "execute_result"
    }
   ],
   "source": [
    "%load_ext aiida\n",
    "from aiida import load_profile\n",
    "load_profile()"
   ]
  },
  {
   "cell_type": "markdown",
   "id": "30719f9a",
   "metadata": {},
   "source": []
  },
  {
   "cell_type": "markdown",
   "id": "9e6360d8",
   "metadata": {},
   "source": [
    "## First workflow: calculate the energy of N2 molecule\n",
    "\n",
    "### Create a PW node\n",
    "aiida-quantumespresso provides a CalcJob: `PwCalculation` to run a PW calculation. Let's register it as a node:"
   ]
  },
  {
   "cell_type": "code",
   "execution_count": 2,
   "id": "11e3bca1-dda6-44e9-9585-54feeda7e7db",
   "metadata": {},
   "outputs": [],
   "source": [
    "from aiida_worktree import build_node\n",
    "\n",
    "# register node\n",
    "ndata = {\"path\": \"aiida_quantumespresso.calculations.pw.PwCalculation\"}\n",
    "pw_node = build_node(ndata)"
   ]
  },
  {
   "cell_type": "markdown",
   "id": "747c0de3",
   "metadata": {},
   "source": [
    "The inputs and outputs of the `PwCalculation` is automatically generated for the new node. One can create a node instance and inpsect its inputs and outputs:"
   ]
  },
  {
   "cell_type": "code",
   "execution_count": 3,
   "id": "e5a9d4bf",
   "metadata": {},
   "outputs": [
    {
     "name": "stdout",
     "output_type": "stream",
     "text": [
      "Inputs:\n",
      "  - metadata\n",
      "  - code\n",
      "  - monitors\n",
      "  - remote_folder\n",
      "  - structure\n",
      "  - parameters\n",
      "  - settings\n",
      "  - parent_folder\n",
      "  - vdw_table\n",
      "  - pseudos\n",
      "  - parallelization\n",
      "  - kpoints\n",
      "  - hubbard_file\n",
      "Outputs:\n",
      "  - remote_folder\n",
      "  - remote_stash\n",
      "  - retrieved\n",
      "  - output_parameters\n",
      "  - output_structure\n",
      "  - output_trajectory\n",
      "  - output_band\n",
      "  - output_kpoints\n",
      "  - output_atomic_occupations\n"
     ]
    }
   ],
   "source": [
    "node = pw_node()\n",
    "# only show first level inputs and outputs\n",
    "print(\"Inputs:\")\n",
    "for input in node.inputs:\n",
    "    if \".\" not in input.name:\n",
    "        print(f\"  - {input.name}\")\n",
    "print(\"Outputs:\")\n",
    "for output in node.outputs:\n",
    "    if \".\" not in output.name:\n",
    "        print(f\"  - {output.name}\")"
   ]
  },
  {
   "cell_type": "markdown",
   "id": "caa91bfe",
   "metadata": {},
   "source": [
    "### Prepare the input datas"
   ]
  },
  {
   "cell_type": "code",
   "execution_count": 4,
   "id": "8ee799d2-0b5b-4609-957f-6b3f2cd451f0",
   "metadata": {},
   "outputs": [],
   "source": [
    "from aiida_worktree import WorkTree\n",
    "from aiida import load_profile\n",
    "from aiida.orm import Dict, KpointsData, StructureData, load_code, load_group\n",
    "from ase.build import molecule\n",
    "\n",
    "load_profile()\n",
    "# create input structure node\n",
    "mol = molecule(\"N2\")\n",
    "mol.center(vacuum=1.5)\n",
    "mol.pbc = True\n",
    "structure_n2 = StructureData(ase=mol)\n",
    "# create the PW node\n",
    "code = load_code(\"pw-7.2@localhost\")\n",
    "paras = Dict({\n",
    "        \"CONTROL\": {\n",
    "            \"calculation\": \"scf\",\n",
    "        },\n",
    "        \"SYSTEM\": {\n",
    "            \"ecutwfc\": 30,\n",
    "            \"ecutrho\": 240,\n",
    "            \"occupations\": \"smearing\",\n",
    "            \"smearing\": \"gaussian\",\n",
    "            \"degauss\": 0.1,\n",
    "        },\n",
    "    })\n",
    "kpoints = KpointsData()\n",
    "kpoints.set_kpoints_mesh([1, 1, 1])\n",
    "# Load the pseudopotential family.\n",
    "pseudo_family = load_group('SSSP/1.2/PBEsol/efficiency')\n",
    "pseudos = pseudo_family.get_pseudos(structure=structure_n2)\n",
    "#\n",
    "metadata = {\n",
    "    'options': {'resources': {\n",
    "                'num_machines': 1,\n",
    "                'num_mpiprocs_per_machine': 1,\n",
    "            },\n",
    "        }\n",
    "    }\n"
   ]
  },
  {
   "cell_type": "markdown",
   "id": "955161ed",
   "metadata": {},
   "source": [
    "### Define a worktree"
   ]
  },
  {
   "cell_type": "code",
   "execution_count": 5,
   "id": "3745b315",
   "metadata": {},
   "outputs": [
    {
     "name": "stderr",
     "output_type": "stream",
     "text": [
      "[INFO] 2023-07-21 15:34:03 nodetree: Create NodeTree: energy_n2\n"
     ]
    }
   ],
   "source": [
    "nt = WorkTree(\"energy_n2\")\n",
    "# structure node\n",
    "structure1 = nt.nodes.new(\"AiiDANode\", \"n2\", value=structure_n2)\n",
    "# pw node\n",
    "pw1 = nt.nodes.new(pw_node, name=\"pw1\")\n",
    "pw1.set({\"code\": code,\n",
    "        \"parameters\": paras,\n",
    "        \"kpoints\": kpoints,\n",
    "        \"pseudos\": pseudos,\n",
    "        \"metadata\": metadata\n",
    "        })\n",
    "nt.links.new(structure1.outputs[0], pw1.inputs[\"structure\"])\n",
    "nt.submit(wait=True, timeout=200)"
   ]
  },
  {
   "cell_type": "markdown",
   "id": "d25beb02-ee82-4a27-ae48-edc5c147904c",
   "metadata": {},
   "source": [
    "### Check status and results\n",
    "Get the result of the nodes:"
   ]
  },
  {
   "cell_type": "markdown",
   "id": "9304c669",
   "metadata": {},
   "source": []
  },
  {
   "cell_type": "code",
   "execution_count": 6,
   "id": "9ebf35aa",
   "metadata": {},
   "outputs": [
    {
     "name": "stdout",
     "output_type": "stream",
     "text": [
      "Energy of an un-relaxed N2 molecule: -547.169\n"
     ]
    }
   ],
   "source": [
    "print('Energy of an un-relaxed N2 molecule: {:0.3f}'.format(pw1.node.outputs.output_parameters.get_dict()[\"energy\"]))"
   ]
  },
  {
   "cell_type": "markdown",
   "id": "125ac629",
   "metadata": {},
   "source": [
    "Generate node graph from the AiiDA process:"
   ]
  },
  {
   "cell_type": "code",
   "execution_count": 7,
   "id": "0060e380",
   "metadata": {},
   "outputs": [
    {
     "data": {
      "image/svg+xml": "<?xml version=\"1.0\" encoding=\"UTF-8\" standalone=\"no\"?>\n<!DOCTYPE svg PUBLIC \"-//W3C//DTD SVG 1.1//EN\"\n \"http://www.w3.org/Graphics/SVG/1.1/DTD/svg11.dtd\">\n<!-- Generated by graphviz version 2.43.0 (0)\n -->\n<!-- Title: %3 Pages: 1 -->\n<svg width=\"1505pt\" height=\"441pt\"\n viewBox=\"0.00 0.00 1505.09 441.43\" xmlns=\"http://www.w3.org/2000/svg\" xmlns:xlink=\"http://www.w3.org/1999/xlink\">\n<g id=\"graph0\" class=\"graph\" transform=\"scale(1 1) rotate(0) translate(4 437.43)\">\n<title>%3</title>\n<polygon fill=\"white\" stroke=\"transparent\" points=\"-4,4 -4,-437.43 1501.09,-437.43 1501.09,4 -4,4\"/>\n<!-- N11214 -->\n<g id=\"node1\" class=\"node\">\n<title>N11214</title>\n<ellipse fill=\"#8cd499\" stroke=\"red\" stroke-width=\"6\" cx=\"689.09\" cy=\"-276.22\" rx=\"129.3\" ry=\"37.45\"/>\n<text text-anchor=\"middle\" x=\"689.09\" y=\"-287.52\" font-family=\"Times,serif\" font-size=\"14.00\">WorkTree: energy_n2 (11214)</text>\n<text text-anchor=\"middle\" x=\"689.09\" y=\"-272.52\" font-family=\"Times,serif\" font-size=\"14.00\">State: finished</text>\n<text text-anchor=\"middle\" x=\"689.09\" y=\"-257.52\" font-family=\"Times,serif\" font-size=\"14.00\">Exit Code: 0</text>\n</g>\n<!-- N11219 -->\n<g id=\"node7\" class=\"node\">\n<title>N11219</title>\n<polygon fill=\"#de707f\" stroke=\"black\" stroke-width=\"0\" points=\"760.59,-172.74 617.59,-172.74 617.59,-119.74 760.59,-119.74 760.59,-172.74\"/>\n<text text-anchor=\"middle\" x=\"689.09\" y=\"-157.54\" font-family=\"Times,serif\" font-size=\"14.00\">PwCalculation (11219)</text>\n<text text-anchor=\"middle\" x=\"689.09\" y=\"-142.54\" font-family=\"Times,serif\" font-size=\"14.00\">State: finished</text>\n<text text-anchor=\"middle\" x=\"689.09\" y=\"-127.54\" font-family=\"Times,serif\" font-size=\"14.00\">Exit Code: 0</text>\n</g>\n<!-- N11214&#45;&gt;N11219 -->\n<g id=\"edge7\" class=\"edge\">\n<title>N11214&#45;&gt;N11219</title>\n<path fill=\"none\" stroke=\"#000000\" stroke-dasharray=\"1,5\" d=\"M689.09,-238.54C689.09,-221.17 689.09,-200.49 689.09,-183.21\"/>\n<polygon fill=\"#000000\" stroke=\"#000000\" points=\"692.59,-182.95 689.09,-172.95 685.59,-182.95 692.59,-182.95\"/>\n<text text-anchor=\"middle\" x=\"728.59\" y=\"-209.54\" font-family=\"Times,serif\" font-size=\"14.00\">CALL_CALC</text>\n<text text-anchor=\"middle\" x=\"728.59\" y=\"-194.54\" font-family=\"Times,serif\" font-size=\"14.00\">pw1</text>\n</g>\n<!-- N7592 -->\n<g id=\"node2\" class=\"node\">\n<title>N7592</title>\n<ellipse fill=\"#8cd499\" stroke=\"black\" stroke-width=\"0\" cx=\"118.09\" cy=\"-406.56\" rx=\"118.17\" ry=\"26.74\"/>\n<text text-anchor=\"middle\" x=\"118.09\" y=\"-410.36\" font-family=\"Times,serif\" font-size=\"14.00\">InstalledCode (7592)</text>\n<text text-anchor=\"middle\" x=\"118.09\" y=\"-395.36\" font-family=\"Times,serif\" font-size=\"14.00\">Quantum ESPRESSO pw.x</text>\n</g>\n<!-- N7592&#45;&gt;N11214 -->\n<g id=\"edge5\" class=\"edge\">\n<title>N7592&#45;&gt;N11214</title>\n<path fill=\"none\" stroke=\"#000000\" stroke-dasharray=\"5,2\" d=\"M119.23,-379.33C121.41,-363.07 127.03,-343.15 141.09,-331.69 172.26,-306.28 399.18,-290.74 551.08,-283.07\"/>\n<polygon fill=\"#000000\" stroke=\"#000000\" points=\"551.61,-286.55 561.43,-282.56 551.26,-279.56 551.61,-286.55\"/>\n<text text-anchor=\"middle\" x=\"262.09\" y=\"-350.49\" font-family=\"Times,serif\" font-size=\"14.00\">INPUT_WORK</text>\n<text text-anchor=\"middle\" x=\"262.09\" y=\"-335.49\" font-family=\"Times,serif\" font-size=\"14.00\">nt__nodes__pw1__properties__code__value</text>\n</g>\n<!-- N7610 -->\n<g id=\"node3\" class=\"node\">\n<title>N7610</title>\n<ellipse fill=\"#8cd499\" stroke=\"black\" stroke-width=\"0\" cx=\"383.09\" cy=\"-406.56\" rx=\"66.89\" ry=\"18\"/>\n<text text-anchor=\"middle\" x=\"383.09\" y=\"-402.86\" font-family=\"Times,serif\" font-size=\"14.00\">UpfData (7610)</text>\n</g>\n<!-- N7610&#45;&gt;N11214 -->\n<g id=\"edge1\" class=\"edge\">\n<title>N7610&#45;&gt;N11214</title>\n<path fill=\"none\" stroke=\"#000000\" stroke-dasharray=\"5,2\" d=\"M382.58,-388.3C383.07,-371.42 386.63,-346.19 402.09,-331.69 424.82,-310.37 491.9,-296.96 555.49,-288.79\"/>\n<polygon fill=\"#000000\" stroke=\"#000000\" points=\"556.17,-292.23 565.66,-287.52 555.3,-285.29 556.17,-292.23\"/>\n<text text-anchor=\"middle\" x=\"543.59\" y=\"-350.49\" font-family=\"Times,serif\" font-size=\"14.00\">INPUT_WORK</text>\n<text text-anchor=\"middle\" x=\"543.59\" y=\"-335.49\" font-family=\"Times,serif\" font-size=\"14.00\">nt__nodes__pw1__properties__pseudos__value__N</text>\n</g>\n<!-- N11211 -->\n<g id=\"node4\" class=\"node\">\n<title>N11211</title>\n<ellipse fill=\"#8cd499\" stroke=\"black\" stroke-width=\"0\" cx=\"689.09\" cy=\"-406.56\" rx=\"97.66\" ry=\"26.74\"/>\n<text text-anchor=\"middle\" x=\"689.09\" y=\"-410.36\" font-family=\"Times,serif\" font-size=\"14.00\">StructureData (11211)</text>\n<text text-anchor=\"middle\" x=\"689.09\" y=\"-395.36\" font-family=\"Times,serif\" font-size=\"14.00\">N2</text>\n</g>\n<!-- N11211&#45;&gt;N11214 -->\n<g id=\"edge2\" class=\"edge\">\n<title>N11211&#45;&gt;N11214</title>\n<path fill=\"none\" stroke=\"#000000\" stroke-dasharray=\"5,2\" d=\"M689.09,-379.59C689.09,-363.65 689.09,-342.75 689.09,-324\"/>\n<polygon fill=\"#000000\" stroke=\"#000000\" points=\"692.59,-323.85 689.09,-313.85 685.59,-323.85 692.59,-323.85\"/>\n<text text-anchor=\"middle\" x=\"807.09\" y=\"-350.49\" font-family=\"Times,serif\" font-size=\"14.00\">INPUT_WORK</text>\n<text text-anchor=\"middle\" x=\"807.09\" y=\"-335.49\" font-family=\"Times,serif\" font-size=\"14.00\">nt__nodes__n2__properties__value__value</text>\n</g>\n<!-- N11212 -->\n<g id=\"node5\" class=\"node\">\n<title>N11212</title>\n<ellipse fill=\"#8cd499\" stroke=\"black\" stroke-width=\"0\" cx=\"948.09\" cy=\"-406.56\" rx=\"55.79\" ry=\"18\"/>\n<text text-anchor=\"middle\" x=\"948.09\" y=\"-402.86\" font-family=\"Times,serif\" font-size=\"14.00\">Dict (11212)</text>\n</g>\n<!-- N11212&#45;&gt;N11214 -->\n<g id=\"edge4\" class=\"edge\">\n<title>N11212&#45;&gt;N11214</title>\n<path fill=\"none\" stroke=\"#000000\" stroke-dasharray=\"5,2\" d=\"M947.71,-388.37C946.39,-371.54 941.7,-346.34 926.09,-331.69 909.09,-315.75 862.68,-303.42 815.39,-294.56\"/>\n<polygon fill=\"#000000\" stroke=\"#000000\" points=\"815.75,-291.07 805.29,-292.72 814.5,-297.96 815.75,-291.07\"/>\n<text text-anchor=\"middle\" x=\"1080.59\" y=\"-350.49\" font-family=\"Times,serif\" font-size=\"14.00\">INPUT_WORK</text>\n<text text-anchor=\"middle\" x=\"1080.59\" y=\"-335.49\" font-family=\"Times,serif\" font-size=\"14.00\">nt__nodes__pw1__properties__parameters__value</text>\n</g>\n<!-- N11213 -->\n<g id=\"node6\" class=\"node\">\n<title>N11213</title>\n<ellipse fill=\"#8cd499\" stroke=\"black\" stroke-width=\"0\" cx=\"1248.09\" cy=\"-406.56\" rx=\"151.14\" ry=\"26.74\"/>\n<text text-anchor=\"middle\" x=\"1248.09\" y=\"-410.36\" font-family=\"Times,serif\" font-size=\"14.00\">KpointsData (11213)</text>\n<text text-anchor=\"middle\" x=\"1248.09\" y=\"-395.36\" font-family=\"Times,serif\" font-size=\"14.00\">Kpoints mesh: 1x1x1 (+0.0,0.0,0.0)</text>\n</g>\n<!-- N11213&#45;&gt;N11214 -->\n<g id=\"edge3\" class=\"edge\">\n<title>N11213&#45;&gt;N11214</title>\n<path fill=\"none\" stroke=\"#000000\" stroke-dasharray=\"5,2\" d=\"M1246.25,-379.65C1243.64,-363.3 1237.48,-343.17 1223.09,-331.69 1192.66,-307.43 974.59,-291.64 826.71,-283.59\"/>\n<polygon fill=\"#000000\" stroke=\"#000000\" points=\"826.8,-280.09 816.63,-283.05 826.42,-287.08 826.8,-280.09\"/>\n<text text-anchor=\"middle\" x=\"1369.09\" y=\"-350.49\" font-family=\"Times,serif\" font-size=\"14.00\">INPUT_WORK</text>\n<text text-anchor=\"middle\" x=\"1369.09\" y=\"-335.49\" font-family=\"Times,serif\" font-size=\"14.00\">nt__nodes__pw1__properties__kpoints__value</text>\n</g>\n<!-- N11220 -->\n<g id=\"node8\" class=\"node\">\n<title>N11220</title>\n<ellipse fill=\"#8cd499\" stroke=\"black\" stroke-width=\"0\" cx=\"313.09\" cy=\"-26.87\" rx=\"92.76\" ry=\"26.74\"/>\n<text text-anchor=\"middle\" x=\"313.09\" y=\"-30.67\" font-family=\"Times,serif\" font-size=\"14.00\">RemoteData (11220)</text>\n<text text-anchor=\"middle\" x=\"313.09\" y=\"-15.67\" font-family=\"Times,serif\" font-size=\"14.00\">@localhost</text>\n</g>\n<!-- N11219&#45;&gt;N11220 -->\n<g id=\"edge10\" class=\"edge\">\n<title>N11219&#45;&gt;N11220</title>\n<path fill=\"none\" stroke=\"#000000\" d=\"M617.17,-132.49C579.51,-125.03 532.85,-114.55 492.09,-101.74 450.31,-88.62 404.71,-69.72 369.98,-54.33\"/>\n<polygon fill=\"#000000\" stroke=\"#000000\" points=\"371.05,-50.97 360.49,-50.09 368.19,-57.36 371.05,-50.97\"/>\n<text text-anchor=\"middle\" x=\"531.09\" y=\"-90.54\" font-family=\"Times,serif\" font-size=\"14.00\">CREATE</text>\n<text text-anchor=\"middle\" x=\"531.09\" y=\"-75.54\" font-family=\"Times,serif\" font-size=\"14.00\">remote_folder</text>\n</g>\n<!-- N11223 -->\n<g id=\"node9\" class=\"node\">\n<title>N11223</title>\n<ellipse fill=\"#8cd499\" stroke=\"black\" stroke-width=\"0\" cx=\"504.09\" cy=\"-26.87\" rx=\"80.69\" ry=\"18\"/>\n<text text-anchor=\"middle\" x=\"504.09\" y=\"-23.17\" font-family=\"Times,serif\" font-size=\"14.00\">FolderData (11223)</text>\n</g>\n<!-- N11219&#45;&gt;N11223 -->\n<g id=\"edge8\" class=\"edge\">\n<title>N11219&#45;&gt;N11223</title>\n<path fill=\"none\" stroke=\"#000000\" d=\"M648.49,-119.48C615.48,-98.54 569.43,-69.32 538.28,-49.56\"/>\n<polygon fill=\"#000000\" stroke=\"#000000\" points=\"539.83,-46.4 529.51,-44 536.08,-52.31 539.83,-46.4\"/>\n<text text-anchor=\"middle\" x=\"644.09\" y=\"-90.54\" font-family=\"Times,serif\" font-size=\"14.00\">CREATE</text>\n<text text-anchor=\"middle\" x=\"644.09\" y=\"-75.54\" font-family=\"Times,serif\" font-size=\"14.00\">retrieved</text>\n</g>\n<!-- N11225 -->\n<g id=\"node10\" class=\"node\">\n<title>N11225</title>\n<ellipse fill=\"#8cd499\" stroke=\"black\" stroke-width=\"0\" cx=\"689.09\" cy=\"-26.87\" rx=\"86.03\" ry=\"26.74\"/>\n<text text-anchor=\"middle\" x=\"689.09\" y=\"-30.67\" font-family=\"Times,serif\" font-size=\"14.00\">BandsData (11225)</text>\n<text text-anchor=\"middle\" x=\"689.09\" y=\"-15.67\" font-family=\"Times,serif\" font-size=\"14.00\">(Path of 1 kpts)</text>\n</g>\n<!-- N11219&#45;&gt;N11225 -->\n<g id=\"edge9\" class=\"edge\">\n<title>N11219&#45;&gt;N11225</title>\n<path fill=\"none\" stroke=\"#000000\" d=\"M689.09,-119.48C689.09,-103.24 689.09,-82.01 689.09,-64.09\"/>\n<polygon fill=\"#000000\" stroke=\"#000000\" points=\"692.59,-63.97 689.09,-53.97 685.59,-63.97 692.59,-63.97\"/>\n<text text-anchor=\"middle\" x=\"723.09\" y=\"-90.54\" font-family=\"Times,serif\" font-size=\"14.00\">CREATE</text>\n<text text-anchor=\"middle\" x=\"723.09\" y=\"-75.54\" font-family=\"Times,serif\" font-size=\"14.00\">output_band</text>\n</g>\n<!-- N11226 -->\n<g id=\"node11\" class=\"node\">\n<title>N11226</title>\n<ellipse fill=\"#8cd499\" stroke=\"black\" stroke-width=\"0\" cx=\"888.09\" cy=\"-26.87\" rx=\"94.48\" ry=\"18\"/>\n<text text-anchor=\"middle\" x=\"888.09\" y=\"-23.17\" font-family=\"Times,serif\" font-size=\"14.00\">TrajectoryData (11226)</text>\n</g>\n<!-- N11219&#45;&gt;N11226 -->\n<g id=\"edge11\" class=\"edge\">\n<title>N11219&#45;&gt;N11226</title>\n<path fill=\"none\" stroke=\"#000000\" d=\"M732.76,-119.48C768.32,-98.51 817.94,-69.24 851.45,-49.48\"/>\n<polygon fill=\"#000000\" stroke=\"#000000\" points=\"853.61,-52.27 860.45,-44.17 850.05,-46.24 853.61,-52.27\"/>\n<text text-anchor=\"middle\" x=\"859.09\" y=\"-90.54\" font-family=\"Times,serif\" font-size=\"14.00\">CREATE</text>\n<text text-anchor=\"middle\" x=\"859.09\" y=\"-75.54\" font-family=\"Times,serif\" font-size=\"14.00\">output_trajectory</text>\n</g>\n<!-- N11227 -->\n<g id=\"node12\" class=\"node\">\n<title>N11227</title>\n<ellipse fill=\"#8cd499\" stroke=\"black\" stroke-width=\"0\" cx=\"1056.09\" cy=\"-26.87\" rx=\"55.79\" ry=\"18\"/>\n<text text-anchor=\"middle\" x=\"1056.09\" y=\"-23.17\" font-family=\"Times,serif\" font-size=\"14.00\">Dict (11227)</text>\n</g>\n<!-- N11219&#45;&gt;N11227 -->\n<g id=\"edge6\" class=\"edge\">\n<title>N11219&#45;&gt;N11227</title>\n<path fill=\"none\" stroke=\"#000000\" d=\"M760.81,-136.21C804.7,-129.45 861.55,-118.44 910.09,-101.74 950.32,-87.9 993.46,-64.96 1022.32,-48.32\"/>\n<polygon fill=\"#000000\" stroke=\"#000000\" points=\"1024.3,-51.22 1031.17,-43.15 1020.77,-45.17 1024.3,-51.22\"/>\n<text text-anchor=\"middle\" x=\"1026.09\" y=\"-90.54\" font-family=\"Times,serif\" font-size=\"14.00\">CREATE</text>\n<text text-anchor=\"middle\" x=\"1026.09\" y=\"-75.54\" font-family=\"Times,serif\" font-size=\"14.00\">output_parameters</text>\n</g>\n</g>\n</svg>\n",
      "text/plain": [
       "<graphviz.graphs.Digraph at 0x7f96f8f620e0>"
      ]
     },
     "execution_count": 7,
     "metadata": {},
     "output_type": "execute_result"
    }
   ],
   "source": [
    "from aiida_worktree.utils import generate_node_graph\n",
    "generate_node_graph(nt.pk)"
   ]
  },
  {
   "cell_type": "markdown",
   "id": "de9bb988",
   "metadata": {},
   "source": [
    "## Second workflow: atomization energy of N2 molecule\n",
    "\n",
    "The atomization energy of $N_2$ is defined as the energy difference between the $N_2$ molecule and two isolated N atoms.\n",
    "```python\n",
    "e_atomization = 2 * e_atom - e_molecule\n",
    "````\n",
    "\n",
    "### Define a calcfunction to calculate the atomization energy"
   ]
  },
  {
   "cell_type": "code",
   "execution_count": 8,
   "id": "5740bb79",
   "metadata": {},
   "outputs": [],
   "source": [
    "from aiida_worktree import node\n",
    "from aiida.engine import calcfunction\n",
    "\n",
    "\n",
    "@node(outputs = [[\"General\", \"energy\"]])\n",
    "@calcfunction\n",
    "def atomization_energy(output_atom, output_mol):\n",
    "    from aiida.orm import Float\n",
    "    e = output_atom[\"energy\"]*output_mol[\"number_of_atoms\"] - output_mol[\"energy\"]\n",
    "    return Float(e)"
   ]
  },
  {
   "cell_type": "markdown",
   "id": "f313ca4f",
   "metadata": {},
   "source": [
    "Create the structure of nitrogen Atom."
   ]
  },
  {
   "cell_type": "code",
   "execution_count": 9,
   "id": "9d859c51",
   "metadata": {},
   "outputs": [],
   "source": [
    "from ase import Atoms\n",
    "from aiida.orm import StructureData\n",
    "\n",
    "atoms = Atoms(\"N\")\n",
    "atoms.center(vacuum=1.5)\n",
    "atoms.pbc = True\n",
    "structure_n = StructureData(ase=atoms)"
   ]
  },
  {
   "cell_type": "markdown",
   "id": "b22383eb",
   "metadata": {},
   "source": [
    "### Create a worktree"
   ]
  },
  {
   "cell_type": "code",
   "execution_count": 10,
   "id": "3fce5a2c",
   "metadata": {},
   "outputs": [
    {
     "name": "stderr",
     "output_type": "stream",
     "text": [
      "[INFO] 2023-07-21 15:35:04 nodetree: Create NodeTree: atomization_energy\n"
     ]
    }
   ],
   "source": [
    "from aiida_worktree import WorkTree\n",
    "from aiida.orm import Dict, KpointsData, StructureData, load_code, load_group\n",
    "\n",
    "nt = WorkTree(\"atomization_energy\")\n",
    "\n",
    "nt.nodes.new(\"AiiDANode\", \"n2\", value=structure_n2)\n",
    "nt.nodes.new(\"AiiDANode\", \"n\", value=structure_n)\n",
    "# create the PW node\n",
    "pw_n = nt.nodes.new(pw_node, name=\"pw_n\")\n",
    "pw_n.set({\"code\": code, \"parameters\": paras, \"kpoints\": kpoints,\n",
    "          \"pseudos\": pseudos, \"metadata\": metadata\n",
    "        })\n",
    "pw_n2 = nt.nodes.new(pw_node, name=\"pw_n2\")\n",
    "pw_n2.set({\"code\": code, \"parameters\": paras, \"kpoints\": kpoints,\n",
    "          \"pseudos\": pseudos, \"metadata\": metadata\n",
    "        })\n",
    "# create the node to calculate the atomization energy\n",
    "atomization = nt.nodes.new(atomization_energy, name=\"atomization_energy\")\n",
    "nt.links.new(nt.nodes[\"n\"].outputs[0], pw_n.inputs[\"structure\"])\n",
    "nt.links.new(nt.nodes[\"n2\"].outputs[0], pw_n2.inputs[\"structure\"])\n",
    "nt.links.new(pw_n.outputs[\"output_parameters\"], atomization.inputs[\"output_atom\"])\n",
    "nt.links.new(pw_n2.outputs[\"output_parameters\"], atomization.inputs[\"output_mol\"])\n",
    "nt.submit(wait=True, timeout=300)\n"
   ]
  },
  {
   "cell_type": "code",
   "execution_count": 11,
   "id": "a1c0bbfe",
   "metadata": {},
   "outputs": [
    {
     "name": "stdout",
     "output_type": "stream",
     "text": [
      "Atomization energy: 14.451 eV\n"
     ]
    }
   ],
   "source": [
    "nt.update()\n",
    "print('Atomization energy: {:0.3f} eV'.format(atomization.node.outputs.result.value))\n"
   ]
  },
  {
   "cell_type": "markdown",
   "id": "f0d21c9d",
   "metadata": {},
   "source": [
    "Generate node graph from the AiiDA process:"
   ]
  },
  {
   "cell_type": "code",
   "execution_count": 12,
   "id": "abdd115a",
   "metadata": {},
   "outputs": [
    {
     "data": {
      "image/svg+xml": "<?xml version=\"1.0\" encoding=\"UTF-8\" standalone=\"no\"?>\n<!DOCTYPE svg PUBLIC \"-//W3C//DTD SVG 1.1//EN\"\n \"http://www.w3.org/Graphics/SVG/1.1/DTD/svg11.dtd\">\n<!-- Generated by graphviz version 2.43.0 (0)\n -->\n<!-- Title: %3 Pages: 1 -->\n<svg width=\"2932pt\" height=\"680pt\"\n viewBox=\"0.00 0.00 2931.63 680.17\" xmlns=\"http://www.w3.org/2000/svg\" xmlns:xlink=\"http://www.w3.org/1999/xlink\">\n<g id=\"graph0\" class=\"graph\" transform=\"scale(1 1) rotate(0) translate(4 676.17)\">\n<title>%3</title>\n<polygon fill=\"white\" stroke=\"transparent\" points=\"-4,4 -4,-676.17 2927.63,-676.17 2927.63,4 -4,4\"/>\n<!-- N11234 -->\n<g id=\"node1\" class=\"node\">\n<title>N11234</title>\n<ellipse fill=\"#8cd499\" stroke=\"red\" stroke-width=\"6\" cx=\"1378.63\" cy=\"-514.96\" rx=\"165.43\" ry=\"37.45\"/>\n<text text-anchor=\"middle\" x=\"1378.63\" y=\"-526.26\" font-family=\"Times,serif\" font-size=\"14.00\">WorkTree: atomization_energy (11234)</text>\n<text text-anchor=\"middle\" x=\"1378.63\" y=\"-511.26\" font-family=\"Times,serif\" font-size=\"14.00\">State: finished</text>\n<text text-anchor=\"middle\" x=\"1378.63\" y=\"-496.26\" font-family=\"Times,serif\" font-size=\"14.00\">Exit Code: 0</text>\n</g>\n<!-- N11236 -->\n<g id=\"node8\" class=\"node\">\n<title>N11236</title>\n<polygon fill=\"#de707f\" stroke=\"black\" stroke-width=\"0\" points=\"640.13,-411.48 497.13,-411.48 497.13,-358.48 640.13,-358.48 640.13,-411.48\"/>\n<text text-anchor=\"middle\" x=\"568.63\" y=\"-396.28\" font-family=\"Times,serif\" font-size=\"14.00\">PwCalculation (11236)</text>\n<text text-anchor=\"middle\" x=\"568.63\" y=\"-381.28\" font-family=\"Times,serif\" font-size=\"14.00\">State: finished</text>\n<text text-anchor=\"middle\" x=\"568.63\" y=\"-366.28\" font-family=\"Times,serif\" font-size=\"14.00\">Exit Code: 0</text>\n</g>\n<!-- N11234&#45;&gt;N11236 -->\n<g id=\"edge20\" class=\"edge\">\n<title>N11234&#45;&gt;N11236</title>\n<path fill=\"none\" stroke=\"#000000\" stroke-dasharray=\"1,5\" d=\"M1244.88,-492.82C1075.88,-466.12 790.28,-421 650.56,-398.93\"/>\n<polygon fill=\"#000000\" stroke=\"#000000\" points=\"650.78,-395.42 640.35,-397.31 649.68,-402.33 650.78,-395.42\"/>\n<text text-anchor=\"middle\" x=\"1062.13\" y=\"-448.28\" font-family=\"Times,serif\" font-size=\"14.00\">CALL_CALC</text>\n<text text-anchor=\"middle\" x=\"1062.13\" y=\"-433.28\" font-family=\"Times,serif\" font-size=\"14.00\">pw_n</text>\n</g>\n<!-- N11238 -->\n<g id=\"node9\" class=\"node\">\n<title>N11238</title>\n<polygon fill=\"#de707f\" stroke=\"black\" stroke-width=\"0\" points=\"1450.13,-411.48 1307.13,-411.48 1307.13,-358.48 1450.13,-358.48 1450.13,-411.48\"/>\n<text text-anchor=\"middle\" x=\"1378.63\" y=\"-396.28\" font-family=\"Times,serif\" font-size=\"14.00\">PwCalculation (11238)</text>\n<text text-anchor=\"middle\" x=\"1378.63\" y=\"-381.28\" font-family=\"Times,serif\" font-size=\"14.00\">State: finished</text>\n<text text-anchor=\"middle\" x=\"1378.63\" y=\"-366.28\" font-family=\"Times,serif\" font-size=\"14.00\">Exit Code: 0</text>\n</g>\n<!-- N11234&#45;&gt;N11238 -->\n<g id=\"edge15\" class=\"edge\">\n<title>N11234&#45;&gt;N11238</title>\n<path fill=\"none\" stroke=\"#000000\" stroke-dasharray=\"1,5\" d=\"M1378.63,-477.28C1378.63,-459.91 1378.63,-439.24 1378.63,-421.95\"/>\n<polygon fill=\"#000000\" stroke=\"#000000\" points=\"1382.13,-421.69 1378.63,-411.69 1375.13,-421.69 1382.13,-421.69\"/>\n<text text-anchor=\"middle\" x=\"1418.13\" y=\"-448.28\" font-family=\"Times,serif\" font-size=\"14.00\">CALL_CALC</text>\n<text text-anchor=\"middle\" x=\"1418.13\" y=\"-433.28\" font-family=\"Times,serif\" font-size=\"14.00\">pw_n2</text>\n</g>\n<!-- N11259 -->\n<g id=\"node20\" class=\"node\">\n<title>N11259</title>\n<polygon fill=\"#de707f\" fill-opacity=\"0.466667\" stroke=\"black\" stroke-width=\"0\" points=\"1817.13,-172.74 1646.13,-172.74 1646.13,-119.74 1817.13,-119.74 1817.13,-172.74\"/>\n<text text-anchor=\"middle\" x=\"1731.63\" y=\"-157.54\" font-family=\"Times,serif\" font-size=\"14.00\">atomization_energy (11259)</text>\n<text text-anchor=\"middle\" x=\"1731.63\" y=\"-142.54\" font-family=\"Times,serif\" font-size=\"14.00\">State: finished</text>\n<text text-anchor=\"middle\" x=\"1731.63\" y=\"-127.54\" font-family=\"Times,serif\" font-size=\"14.00\">Exit Code: 0</text>\n</g>\n<!-- N11234&#45;&gt;N11259 -->\n<g id=\"edge13\" class=\"edge\">\n<title>N11234&#45;&gt;N11259</title>\n<path fill=\"none\" stroke=\"#000000\" stroke-dasharray=\"1,5\" d=\"M1477.56,-484.84C1561.47,-456.9 1682.12,-408.82 1771.63,-340.48 1826.76,-298.39 1851.68,-250 1815.63,-190.74 1813.1,-186.57 1810.02,-182.79 1806.56,-179.35\"/>\n<polygon fill=\"#000000\" stroke=\"#000000\" points=\"1808.83,-176.69 1798.98,-172.78 1804.24,-181.98 1808.83,-176.69\"/>\n<text text-anchor=\"middle\" x=\"1858.13\" y=\"-329.28\" font-family=\"Times,serif\" font-size=\"14.00\">CALL_CALC</text>\n<text text-anchor=\"middle\" x=\"1858.13\" y=\"-314.28\" font-family=\"Times,serif\" font-size=\"14.00\">atomization_energy</text>\n</g>\n<!-- N7592 -->\n<g id=\"node2\" class=\"node\">\n<title>N7592</title>\n<ellipse fill=\"#8cd499\" stroke=\"black\" stroke-width=\"0\" cx=\"201.63\" cy=\"-645.3\" rx=\"118.17\" ry=\"26.74\"/>\n<text text-anchor=\"middle\" x=\"201.63\" y=\"-649.1\" font-family=\"Times,serif\" font-size=\"14.00\">InstalledCode (7592)</text>\n<text text-anchor=\"middle\" x=\"201.63\" y=\"-634.1\" font-family=\"Times,serif\" font-size=\"14.00\">Quantum ESPRESSO pw.x</text>\n</g>\n<!-- N7592&#45;&gt;N11234 -->\n<g id=\"edge2\" class=\"edge\">\n<title>N7592&#45;&gt;N11234</title>\n<path fill=\"none\" stroke=\"#000000\" stroke-dasharray=\"5,2\" d=\"M117.77,-626.31C77.51,-614.01 42.68,-595.4 66.63,-570.43 105.31,-530.11 854.33,-519.6 1202.93,-516.89\"/>\n<polygon fill=\"#000000\" stroke=\"#000000\" points=\"1203.15,-520.39 1213.12,-516.81 1203.1,-513.39 1203.15,-520.39\"/>\n<text text-anchor=\"middle\" x=\"191.13\" y=\"-589.23\" font-family=\"Times,serif\" font-size=\"14.00\">INPUT_WORK</text>\n<text text-anchor=\"middle\" x=\"191.13\" y=\"-574.23\" font-family=\"Times,serif\" font-size=\"14.00\">nt__nodes__pw_n__properties__code__value</text>\n</g>\n<!-- N7592&#45;&gt;N11234 -->\n<g id=\"edge7\" class=\"edge\">\n<title>N7592&#45;&gt;N11234</title>\n<path fill=\"none\" stroke=\"#000000\" stroke-dasharray=\"5,2\" d=\"M268.62,-623.08C284.55,-616.81 301.13,-609.23 315.63,-600.43 332.86,-589.98 330.98,-578.06 349.63,-570.43 426.34,-539.09 930.98,-524.58 1203.97,-518.96\"/>\n<polygon fill=\"#000000\" stroke=\"#000000\" points=\"1204.05,-522.46 1213.98,-518.75 1203.91,-515.46 1204.05,-522.46\"/>\n<text text-anchor=\"middle\" x=\"477.63\" y=\"-589.23\" font-family=\"Times,serif\" font-size=\"14.00\">INPUT_WORK</text>\n<text text-anchor=\"middle\" x=\"477.63\" y=\"-574.23\" font-family=\"Times,serif\" font-size=\"14.00\">nt__nodes__pw_n2__properties__code__value</text>\n</g>\n<!-- N7610 -->\n<g id=\"node3\" class=\"node\">\n<title>N7610</title>\n<ellipse fill=\"#8cd499\" stroke=\"black\" stroke-width=\"0\" cx=\"776.63\" cy=\"-645.3\" rx=\"66.89\" ry=\"18\"/>\n<text text-anchor=\"middle\" x=\"776.63\" y=\"-641.6\" font-family=\"Times,serif\" font-size=\"14.00\">UpfData (7610)</text>\n</g>\n<!-- N7610&#45;&gt;N11234 -->\n<g id=\"edge5\" class=\"edge\">\n<title>N7610&#45;&gt;N11234</title>\n<path fill=\"none\" stroke=\"#000000\" stroke-dasharray=\"5,2\" d=\"M717.4,-636.83C659.12,-627.19 583.46,-607.14 617.63,-570.43 656.67,-528.5 990.49,-518.37 1202.84,-516.2\"/>\n<polygon fill=\"#000000\" stroke=\"#000000\" points=\"1202.9,-519.7 1212.86,-516.1 1202.83,-512.7 1202.9,-519.7\"/>\n<text text-anchor=\"middle\" x=\"766.13\" y=\"-589.23\" font-family=\"Times,serif\" font-size=\"14.00\">INPUT_WORK</text>\n<text text-anchor=\"middle\" x=\"766.13\" y=\"-574.23\" font-family=\"Times,serif\" font-size=\"14.00\">nt__nodes__pw_n2__properties__pseudos__value__N</text>\n</g>\n<!-- N7610&#45;&gt;N11234 -->\n<g id=\"edge8\" class=\"edge\">\n<title>N7610&#45;&gt;N11234</title>\n<path fill=\"none\" stroke=\"#000000\" stroke-dasharray=\"5,2\" d=\"M827.56,-633.51C854.55,-626.48 887.62,-615.74 914.63,-600.43 932.17,-590.5 930.27,-578.73 948.63,-570.43 994.62,-549.65 1110.48,-535.69 1210.36,-527.11\"/>\n<polygon fill=\"#000000\" stroke=\"#000000\" points=\"1210.92,-530.57 1220.59,-526.24 1210.33,-523.6 1210.92,-530.57\"/>\n<text text-anchor=\"middle\" x=\"1093.63\" y=\"-589.23\" font-family=\"Times,serif\" font-size=\"14.00\">INPUT_WORK</text>\n<text text-anchor=\"middle\" x=\"1093.63\" y=\"-574.23\" font-family=\"Times,serif\" font-size=\"14.00\">nt__nodes__pw_n__properties__pseudos__value__N</text>\n</g>\n<!-- N11211 -->\n<g id=\"node4\" class=\"node\">\n<title>N11211</title>\n<ellipse fill=\"#8cd499\" stroke=\"black\" stroke-width=\"0\" cx=\"1249.63\" cy=\"-645.3\" rx=\"97.66\" ry=\"26.74\"/>\n<text text-anchor=\"middle\" x=\"1249.63\" y=\"-649.1\" font-family=\"Times,serif\" font-size=\"14.00\">StructureData (11211)</text>\n<text text-anchor=\"middle\" x=\"1249.63\" y=\"-634.1\" font-family=\"Times,serif\" font-size=\"14.00\">N2</text>\n</g>\n<!-- N11211&#45;&gt;N11234 -->\n<g id=\"edge9\" class=\"edge\">\n<title>N11211&#45;&gt;N11234</title>\n<path fill=\"none\" stroke=\"#000000\" stroke-dasharray=\"5,2\" d=\"M1243.37,-618.3C1241.23,-603.11 1241.34,-584.28 1250.63,-570.43 1255.77,-562.78 1262.22,-556.19 1269.49,-550.53\"/>\n<polygon fill=\"#000000\" stroke=\"#000000\" points=\"1271.52,-553.37 1277.66,-544.74 1267.48,-547.66 1271.52,-553.37\"/>\n<text text-anchor=\"middle\" x=\"1368.63\" y=\"-589.23\" font-family=\"Times,serif\" font-size=\"14.00\">INPUT_WORK</text>\n<text text-anchor=\"middle\" x=\"1368.63\" y=\"-574.23\" font-family=\"Times,serif\" font-size=\"14.00\">nt__nodes__n2__properties__value__value</text>\n</g>\n<!-- N11212 -->\n<g id=\"node5\" class=\"node\">\n<title>N11212</title>\n<ellipse fill=\"#8cd499\" stroke=\"black\" stroke-width=\"0\" cx=\"1661.63\" cy=\"-645.3\" rx=\"55.79\" ry=\"18\"/>\n<text text-anchor=\"middle\" x=\"1661.63\" y=\"-641.6\" font-family=\"Times,serif\" font-size=\"14.00\">Dict (11212)</text>\n</g>\n<!-- N11212&#45;&gt;N11234 -->\n<g id=\"edge3\" class=\"edge\">\n<title>N11212&#45;&gt;N11234</title>\n<path fill=\"none\" stroke=\"#000000\" stroke-dasharray=\"5,2\" d=\"M1610.62,-637.85C1579.35,-631.98 1539.69,-620.95 1509.63,-600.43 1495.75,-590.96 1499.57,-581.15 1486.63,-570.43 1479.31,-564.37 1471.2,-558.74 1462.81,-553.59\"/>\n<polygon fill=\"#000000\" stroke=\"#000000\" points=\"1464.38,-550.46 1453.99,-548.4 1460.83,-556.49 1464.38,-550.46\"/>\n<text text-anchor=\"middle\" x=\"1651.13\" y=\"-589.23\" font-family=\"Times,serif\" font-size=\"14.00\">INPUT_WORK</text>\n<text text-anchor=\"middle\" x=\"1651.13\" y=\"-574.23\" font-family=\"Times,serif\" font-size=\"14.00\">nt__nodes__pw_n__properties__parameters__value</text>\n</g>\n<!-- N11212&#45;&gt;N11234 -->\n<g id=\"edge10\" class=\"edge\">\n<title>N11212&#45;&gt;N11234</title>\n<path fill=\"none\" stroke=\"#000000\" stroke-dasharray=\"5,2\" d=\"M1708.98,-635.51C1757.26,-624.53 1821.3,-603.12 1792.63,-570.43 1775.89,-551.34 1653.43,-536.83 1546.01,-527.6\"/>\n<polygon fill=\"#000000\" stroke=\"#000000\" points=\"1546.26,-524.11 1536,-526.75 1545.67,-531.08 1546.26,-524.11\"/>\n<text text-anchor=\"middle\" x=\"1944.63\" y=\"-589.23\" font-family=\"Times,serif\" font-size=\"14.00\">INPUT_WORK</text>\n<text text-anchor=\"middle\" x=\"1944.63\" y=\"-574.23\" font-family=\"Times,serif\" font-size=\"14.00\">nt__nodes__pw_n2__properties__parameters__value</text>\n</g>\n<!-- N11213 -->\n<g id=\"node6\" class=\"node\">\n<title>N11213</title>\n<ellipse fill=\"#8cd499\" stroke=\"black\" stroke-width=\"0\" cx=\"2273.63\" cy=\"-645.3\" rx=\"151.14\" ry=\"26.74\"/>\n<text text-anchor=\"middle\" x=\"2273.63\" y=\"-649.1\" font-family=\"Times,serif\" font-size=\"14.00\">KpointsData (11213)</text>\n<text text-anchor=\"middle\" x=\"2273.63\" y=\"-634.1\" font-family=\"Times,serif\" font-size=\"14.00\">Kpoints mesh: 1x1x1 (+0.0,0.0,0.0)</text>\n</g>\n<!-- N11213&#45;&gt;N11234 -->\n<g id=\"edge1\" class=\"edge\">\n<title>N11213&#45;&gt;N11234</title>\n<path fill=\"none\" stroke=\"#000000\" stroke-dasharray=\"5,2\" d=\"M2184.24,-623.61C2165.28,-617.5 2145.81,-609.85 2128.63,-600.43 2110.66,-590.59 2112.56,-578.27 2093.63,-570.43 1999.57,-531.51 1733.91,-520.09 1554.28,-516.91\"/>\n<polygon fill=\"#000000\" stroke=\"#000000\" points=\"1554.24,-513.41 1544.18,-516.74 1554.12,-520.41 1554.24,-513.41\"/>\n<text text-anchor=\"middle\" x=\"2263.63\" y=\"-589.23\" font-family=\"Times,serif\" font-size=\"14.00\">INPUT_WORK</text>\n<text text-anchor=\"middle\" x=\"2263.63\" y=\"-574.23\" font-family=\"Times,serif\" font-size=\"14.00\">nt__nodes__pw_n2__properties__kpoints__value</text>\n</g>\n<!-- N11213&#45;&gt;N11234 -->\n<g id=\"edge4\" class=\"edge\">\n<title>N11213&#45;&gt;N11234</title>\n<path fill=\"none\" stroke=\"#000000\" stroke-dasharray=\"5,2\" d=\"M2358.34,-622.96C2392.62,-610.43 2419.7,-592.66 2398.63,-570.43 2370.07,-540.31 1837.59,-525.11 1553.64,-519.12\"/>\n<polygon fill=\"#000000\" stroke=\"#000000\" points=\"1553.3,-515.61 1543.23,-518.9 1553.15,-522.61 1553.3,-515.61\"/>\n<text text-anchor=\"middle\" x=\"2537.13\" y=\"-589.23\" font-family=\"Times,serif\" font-size=\"14.00\">INPUT_WORK</text>\n<text text-anchor=\"middle\" x=\"2537.13\" y=\"-574.23\" font-family=\"Times,serif\" font-size=\"14.00\">nt__nodes__pw_n__properties__kpoints__value</text>\n</g>\n<!-- N11233 -->\n<g id=\"node7\" class=\"node\">\n<title>N11233</title>\n<ellipse fill=\"#8cd499\" stroke=\"black\" stroke-width=\"0\" cx=\"2706.63\" cy=\"-645.3\" rx=\"97.66\" ry=\"26.74\"/>\n<text text-anchor=\"middle\" x=\"2706.63\" y=\"-649.1\" font-family=\"Times,serif\" font-size=\"14.00\">StructureData (11233)</text>\n<text text-anchor=\"middle\" x=\"2706.63\" y=\"-634.1\" font-family=\"Times,serif\" font-size=\"14.00\">N</text>\n</g>\n<!-- N11233&#45;&gt;N11234 -->\n<g id=\"edge6\" class=\"edge\">\n<title>N11233&#45;&gt;N11234</title>\n<path fill=\"none\" stroke=\"#000000\" stroke-dasharray=\"5,2\" d=\"M2701.83,-618.24C2697.3,-601.6 2688.69,-581.21 2672.63,-570.43 2626.99,-539.83 1896.34,-524.2 1553.59,-518.52\"/>\n<polygon fill=\"#000000\" stroke=\"#000000\" points=\"1553.62,-515.02 1543.56,-518.35 1553.5,-522.02 1553.62,-515.02\"/>\n<text text-anchor=\"middle\" x=\"2809.13\" y=\"-589.23\" font-family=\"Times,serif\" font-size=\"14.00\">INPUT_WORK</text>\n<text text-anchor=\"middle\" x=\"2809.13\" y=\"-574.23\" font-family=\"Times,serif\" font-size=\"14.00\">nt__nodes__n__properties__value__value</text>\n</g>\n<!-- N11240 -->\n<g id=\"node10\" class=\"node\">\n<title>N11240</title>\n<ellipse fill=\"#8cd499\" stroke=\"black\" stroke-width=\"0\" cx=\"92.63\" cy=\"-265.61\" rx=\"92.76\" ry=\"26.74\"/>\n<text text-anchor=\"middle\" x=\"92.63\" y=\"-269.41\" font-family=\"Times,serif\" font-size=\"14.00\">RemoteData (11240)</text>\n<text text-anchor=\"middle\" x=\"92.63\" y=\"-254.41\" font-family=\"Times,serif\" font-size=\"14.00\">@localhost</text>\n</g>\n<!-- N11236&#45;&gt;N11240 -->\n<g id=\"edge17\" class=\"edge\">\n<title>N11236&#45;&gt;N11240</title>\n<path fill=\"none\" stroke=\"#000000\" d=\"M497.1,-375.93C442.69,-368.96 366.27,-357.31 300.63,-340.48 250.29,-327.57 194.91,-307.6 153.95,-291.68\"/>\n<polygon fill=\"#000000\" stroke=\"#000000\" points=\"154.98,-288.33 144.39,-287.94 152.43,-294.84 154.98,-288.33\"/>\n<text text-anchor=\"middle\" x=\"339.63\" y=\"-329.28\" font-family=\"Times,serif\" font-size=\"14.00\">CREATE</text>\n<text text-anchor=\"middle\" x=\"339.63\" y=\"-314.28\" font-family=\"Times,serif\" font-size=\"14.00\">remote_folder</text>\n</g>\n<!-- N11244 -->\n<g id=\"node12\" class=\"node\">\n<title>N11244</title>\n<ellipse fill=\"#8cd499\" stroke=\"black\" stroke-width=\"0\" cx=\"283.63\" cy=\"-265.61\" rx=\"80.69\" ry=\"18\"/>\n<text text-anchor=\"middle\" x=\"283.63\" y=\"-261.91\" font-family=\"Times,serif\" font-size=\"14.00\">FolderData (11244)</text>\n</g>\n<!-- N11236&#45;&gt;N11244 -->\n<g id=\"edge11\" class=\"edge\">\n<title>N11236&#45;&gt;N11244</title>\n<path fill=\"none\" stroke=\"#000000\" d=\"M497.84,-358.42C482.54,-352.68 466.49,-346.5 451.63,-340.48 408.58,-323.03 360.08,-301.5 326.29,-286.19\"/>\n<polygon fill=\"#000000\" stroke=\"#000000\" points=\"327.72,-283 317.17,-282.05 324.83,-289.37 327.72,-283\"/>\n<text text-anchor=\"middle\" x=\"477.63\" y=\"-329.28\" font-family=\"Times,serif\" font-size=\"14.00\">CREATE</text>\n<text text-anchor=\"middle\" x=\"477.63\" y=\"-314.28\" font-family=\"Times,serif\" font-size=\"14.00\">retrieved</text>\n</g>\n<!-- N11245 -->\n<g id=\"node13\" class=\"node\">\n<title>N11245</title>\n<ellipse fill=\"#8cd499\" stroke=\"black\" stroke-width=\"0\" cx=\"468.63\" cy=\"-265.61\" rx=\"86.03\" ry=\"26.74\"/>\n<text text-anchor=\"middle\" x=\"468.63\" y=\"-269.41\" font-family=\"Times,serif\" font-size=\"14.00\">BandsData (11245)</text>\n<text text-anchor=\"middle\" x=\"468.63\" y=\"-254.41\" font-family=\"Times,serif\" font-size=\"14.00\">(Path of 1 kpts)</text>\n</g>\n<!-- N11236&#45;&gt;N11245 -->\n<g id=\"edge16\" class=\"edge\">\n<title>N11236&#45;&gt;N11245</title>\n<path fill=\"none\" stroke=\"#000000\" d=\"M546.69,-358.22C532,-340.98 512.53,-318.13 496.71,-299.57\"/>\n<polygon fill=\"#000000\" stroke=\"#000000\" points=\"499.33,-297.25 490.18,-291.9 494,-301.79 499.33,-297.25\"/>\n<text text-anchor=\"middle\" x=\"564.63\" y=\"-329.28\" font-family=\"Times,serif\" font-size=\"14.00\">CREATE</text>\n<text text-anchor=\"middle\" x=\"564.63\" y=\"-314.28\" font-family=\"Times,serif\" font-size=\"14.00\">output_band</text>\n</g>\n<!-- N11246 -->\n<g id=\"node14\" class=\"node\">\n<title>N11246</title>\n<ellipse fill=\"#8cd499\" stroke=\"black\" stroke-width=\"0\" cx=\"667.63\" cy=\"-265.61\" rx=\"94.48\" ry=\"18\"/>\n<text text-anchor=\"middle\" x=\"667.63\" y=\"-261.91\" font-family=\"Times,serif\" font-size=\"14.00\">TrajectoryData (11246)</text>\n</g>\n<!-- N11236&#45;&gt;N11246 -->\n<g id=\"edge25\" class=\"edge\">\n<title>N11236&#45;&gt;N11246</title>\n<path fill=\"none\" stroke=\"#000000\" d=\"M590.36,-358.22C607.09,-338.38 630.09,-311.12 646.63,-291.5\"/>\n<polygon fill=\"#000000\" stroke=\"#000000\" points=\"649.52,-293.51 653.3,-283.61 644.17,-288.99 649.52,-293.51\"/>\n<text text-anchor=\"middle\" x=\"677.63\" y=\"-329.28\" font-family=\"Times,serif\" font-size=\"14.00\">CREATE</text>\n<text text-anchor=\"middle\" x=\"677.63\" y=\"-314.28\" font-family=\"Times,serif\" font-size=\"14.00\">output_trajectory</text>\n</g>\n<!-- N11247 -->\n<g id=\"node15\" class=\"node\">\n<title>N11247</title>\n<ellipse fill=\"#8cd499\" stroke=\"black\" stroke-width=\"0\" cx=\"835.63\" cy=\"-265.61\" rx=\"55.79\" ry=\"18\"/>\n<text text-anchor=\"middle\" x=\"835.63\" y=\"-261.91\" font-family=\"Times,serif\" font-size=\"14.00\">Dict (11247)</text>\n</g>\n<!-- N11236&#45;&gt;N11247 -->\n<g id=\"edge23\" class=\"edge\">\n<title>N11236&#45;&gt;N11247</title>\n<path fill=\"none\" stroke=\"#000000\" d=\"M640.15,-370.02C668.47,-363.09 700.83,-353.4 728.63,-340.48 757.96,-326.86 787.97,-305.35 808.72,-289.04\"/>\n<polygon fill=\"#000000\" stroke=\"#000000\" points=\"811.11,-291.61 816.74,-282.64 806.74,-286.14 811.11,-291.61\"/>\n<text text-anchor=\"middle\" x=\"829.63\" y=\"-329.28\" font-family=\"Times,serif\" font-size=\"14.00\">CREATE</text>\n<text text-anchor=\"middle\" x=\"829.63\" y=\"-314.28\" font-family=\"Times,serif\" font-size=\"14.00\">output_parameters</text>\n</g>\n<!-- N11242 -->\n<g id=\"node11\" class=\"node\">\n<title>N11242</title>\n<ellipse fill=\"#8cd499\" stroke=\"black\" stroke-width=\"0\" cx=\"1002.63\" cy=\"-265.61\" rx=\"92.76\" ry=\"26.74\"/>\n<text text-anchor=\"middle\" x=\"1002.63\" y=\"-269.41\" font-family=\"Times,serif\" font-size=\"14.00\">RemoteData (11242)</text>\n<text text-anchor=\"middle\" x=\"1002.63\" y=\"-254.41\" font-family=\"Times,serif\" font-size=\"14.00\">@localhost</text>\n</g>\n<!-- N11238&#45;&gt;N11242 -->\n<g id=\"edge19\" class=\"edge\">\n<title>N11238&#45;&gt;N11242</title>\n<path fill=\"none\" stroke=\"#000000\" d=\"M1307.1,-371.16C1269.62,-363.68 1223.21,-353.21 1182.63,-340.48 1140.65,-327.31 1094.79,-308.42 1059.87,-293.04\"/>\n<polygon fill=\"#000000\" stroke=\"#000000\" points=\"1060.88,-289.66 1050.32,-288.8 1058.04,-296.06 1060.88,-289.66\"/>\n<text text-anchor=\"middle\" x=\"1221.63\" y=\"-329.28\" font-family=\"Times,serif\" font-size=\"14.00\">CREATE</text>\n<text text-anchor=\"middle\" x=\"1221.63\" y=\"-314.28\" font-family=\"Times,serif\" font-size=\"14.00\">remote_folder</text>\n</g>\n<!-- N11251 -->\n<g id=\"node16\" class=\"node\">\n<title>N11251</title>\n<ellipse fill=\"#8cd499\" stroke=\"black\" stroke-width=\"0\" cx=\"1193.63\" cy=\"-265.61\" rx=\"80.69\" ry=\"18\"/>\n<text text-anchor=\"middle\" x=\"1193.63\" y=\"-261.91\" font-family=\"Times,serif\" font-size=\"14.00\">FolderData (11251)</text>\n</g>\n<!-- N11238&#45;&gt;N11251 -->\n<g id=\"edge22\" class=\"edge\">\n<title>N11238&#45;&gt;N11251</title>\n<path fill=\"none\" stroke=\"#000000\" d=\"M1338.03,-358.22C1305.02,-337.28 1258.97,-308.06 1227.82,-288.3\"/>\n<polygon fill=\"#000000\" stroke=\"#000000\" points=\"1229.38,-285.14 1219.06,-282.74 1225.63,-291.05 1229.38,-285.14\"/>\n<text text-anchor=\"middle\" x=\"1334.63\" y=\"-329.28\" font-family=\"Times,serif\" font-size=\"14.00\">CREATE</text>\n<text text-anchor=\"middle\" x=\"1334.63\" y=\"-314.28\" font-family=\"Times,serif\" font-size=\"14.00\">retrieved</text>\n</g>\n<!-- N11253 -->\n<g id=\"node17\" class=\"node\">\n<title>N11253</title>\n<ellipse fill=\"#8cd499\" stroke=\"black\" stroke-width=\"0\" cx=\"1378.63\" cy=\"-265.61\" rx=\"86.03\" ry=\"26.74\"/>\n<text text-anchor=\"middle\" x=\"1378.63\" y=\"-269.41\" font-family=\"Times,serif\" font-size=\"14.00\">BandsData (11253)</text>\n<text text-anchor=\"middle\" x=\"1378.63\" y=\"-254.41\" font-family=\"Times,serif\" font-size=\"14.00\">(Path of 1 kpts)</text>\n</g>\n<!-- N11238&#45;&gt;N11253 -->\n<g id=\"edge24\" class=\"edge\">\n<title>N11238&#45;&gt;N11253</title>\n<path fill=\"none\" stroke=\"#000000\" d=\"M1378.63,-358.22C1378.63,-341.98 1378.63,-320.75 1378.63,-302.83\"/>\n<polygon fill=\"#000000\" stroke=\"#000000\" points=\"1382.13,-302.71 1378.63,-292.71 1375.13,-302.71 1382.13,-302.71\"/>\n<text text-anchor=\"middle\" x=\"1412.63\" y=\"-329.28\" font-family=\"Times,serif\" font-size=\"14.00\">CREATE</text>\n<text text-anchor=\"middle\" x=\"1412.63\" y=\"-314.28\" font-family=\"Times,serif\" font-size=\"14.00\">output_band</text>\n</g>\n<!-- N11254 -->\n<g id=\"node18\" class=\"node\">\n<title>N11254</title>\n<ellipse fill=\"#8cd499\" stroke=\"black\" stroke-width=\"0\" cx=\"1577.63\" cy=\"-265.61\" rx=\"94.48\" ry=\"18\"/>\n<text text-anchor=\"middle\" x=\"1577.63\" y=\"-261.91\" font-family=\"Times,serif\" font-size=\"14.00\">TrajectoryData (11254)</text>\n</g>\n<!-- N11238&#45;&gt;N11254 -->\n<g id=\"edge12\" class=\"edge\">\n<title>N11238&#45;&gt;N11254</title>\n<path fill=\"none\" stroke=\"#000000\" d=\"M1422.3,-358.22C1457.86,-337.25 1507.48,-307.99 1540.99,-288.22\"/>\n<polygon fill=\"#000000\" stroke=\"#000000\" points=\"1543.15,-291.01 1549.99,-282.91 1539.6,-284.98 1543.15,-291.01\"/>\n<text text-anchor=\"middle\" x=\"1549.63\" y=\"-329.28\" font-family=\"Times,serif\" font-size=\"14.00\">CREATE</text>\n<text text-anchor=\"middle\" x=\"1549.63\" y=\"-314.28\" font-family=\"Times,serif\" font-size=\"14.00\">output_trajectory</text>\n</g>\n<!-- N11255 -->\n<g id=\"node19\" class=\"node\">\n<title>N11255</title>\n<ellipse fill=\"#8cd499\" stroke=\"black\" stroke-width=\"0\" cx=\"1745.63\" cy=\"-265.61\" rx=\"55.79\" ry=\"18\"/>\n<text text-anchor=\"middle\" x=\"1745.63\" y=\"-261.91\" font-family=\"Times,serif\" font-size=\"14.00\">Dict (11255)</text>\n</g>\n<!-- N11238&#45;&gt;N11255 -->\n<g id=\"edge21\" class=\"edge\">\n<title>N11238&#45;&gt;N11255</title>\n<path fill=\"none\" stroke=\"#000000\" d=\"M1450.19,-375.12C1494.35,-368.39 1551.72,-357.36 1600.63,-340.48 1640.63,-326.67 1683.47,-303.73 1712.12,-287.08\"/>\n<polygon fill=\"#000000\" stroke=\"#000000\" points=\"1714.06,-290 1720.91,-281.91 1710.51,-283.96 1714.06,-290\"/>\n<text text-anchor=\"middle\" x=\"1716.63\" y=\"-329.28\" font-family=\"Times,serif\" font-size=\"14.00\">CREATE</text>\n<text text-anchor=\"middle\" x=\"1716.63\" y=\"-314.28\" font-family=\"Times,serif\" font-size=\"14.00\">output_parameters</text>\n</g>\n<!-- N11247&#45;&gt;N11259 -->\n<g id=\"edge14\" class=\"edge\">\n<title>N11247&#45;&gt;N11259</title>\n<path fill=\"none\" stroke=\"#000000\" d=\"M866.15,-250.5C876.85,-246.08 889.08,-241.62 900.63,-238.74 1161.44,-173.75 1479.76,-154.9 1635.92,-149.45\"/>\n<polygon fill=\"#000000\" stroke=\"#000000\" points=\"1636.09,-152.95 1645.96,-149.11 1635.85,-145.95 1636.09,-152.95\"/>\n<text text-anchor=\"middle\" x=\"1190.13\" y=\"-209.54\" font-family=\"Times,serif\" font-size=\"14.00\">INPUT_CALC</text>\n<text text-anchor=\"middle\" x=\"1190.13\" y=\"-194.54\" font-family=\"Times,serif\" font-size=\"14.00\">output_atom</text>\n</g>\n<!-- N11255&#45;&gt;N11259 -->\n<g id=\"edge26\" class=\"edge\">\n<title>N11255&#45;&gt;N11259</title>\n<path fill=\"none\" stroke=\"#000000\" d=\"M1739.32,-247.35C1736.72,-239.37 1733.99,-229.69 1732.63,-220.74 1730.78,-208.54 1730.18,-195.07 1730.16,-183.04\"/>\n<polygon fill=\"#000000\" stroke=\"#000000\" points=\"1733.66,-182.93 1730.27,-172.89 1726.66,-182.85 1733.66,-182.93\"/>\n<text text-anchor=\"middle\" x=\"1774.13\" y=\"-209.54\" font-family=\"Times,serif\" font-size=\"14.00\">INPUT_CALC</text>\n<text text-anchor=\"middle\" x=\"1774.13\" y=\"-194.54\" font-family=\"Times,serif\" font-size=\"14.00\">output_mol</text>\n</g>\n<!-- N11261 -->\n<g id=\"node21\" class=\"node\">\n<title>N11261</title>\n<ellipse fill=\"#8cd499\" stroke=\"black\" stroke-width=\"0\" cx=\"1731.63\" cy=\"-26.87\" rx=\"102.56\" ry=\"26.74\"/>\n<text text-anchor=\"middle\" x=\"1731.63\" y=\"-30.67\" font-family=\"Times,serif\" font-size=\"14.00\">Float (11261)</text>\n<text text-anchor=\"middle\" x=\"1731.63\" y=\"-15.67\" font-family=\"Times,serif\" font-size=\"14.00\">value: 14.45126288059</text>\n</g>\n<!-- N11259&#45;&gt;N11261 -->\n<g id=\"edge18\" class=\"edge\">\n<title>N11259&#45;&gt;N11261</title>\n<path fill=\"none\" stroke=\"#000000\" d=\"M1731.63,-119.48C1731.63,-103.24 1731.63,-82.01 1731.63,-64.09\"/>\n<polygon fill=\"#000000\" stroke=\"#000000\" points=\"1735.13,-63.97 1731.63,-53.97 1728.13,-63.97 1735.13,-63.97\"/>\n<text text-anchor=\"middle\" x=\"1757.63\" y=\"-90.54\" font-family=\"Times,serif\" font-size=\"14.00\">CREATE</text>\n<text text-anchor=\"middle\" x=\"1757.63\" y=\"-75.54\" font-family=\"Times,serif\" font-size=\"14.00\">result</text>\n</g>\n</g>\n</svg>\n",
      "text/plain": [
       "<graphviz.graphs.Digraph at 0x7f96f8c44bb0>"
      ]
     },
     "execution_count": 12,
     "metadata": {},
     "output_type": "execute_result"
    }
   ],
   "source": [
    "from aiida_worktree.utils import generate_node_graph\n",
    "generate_node_graph(nt.pk)"
   ]
  },
  {
   "cell_type": "markdown",
   "id": "c7097344",
   "metadata": {},
   "source": [
    "## Use already existing workchain\n",
    "Can we register a node from a workchain? Can we set the a input item of a namespace? Yes, we can!\n",
    "\n",
    "Here we build a node from the `PwRelaxWorkChain`."
   ]
  },
  {
   "cell_type": "code",
   "execution_count": 13,
   "id": "fb66bbdc",
   "metadata": {},
   "outputs": [],
   "source": [
    "from aiida_worktree.decorator import build_node\n",
    "\n",
    "# register node\n",
    "ndata = {\"path\": \"aiida_quantumespresso.workflows.pw.relax.PwRelaxWorkChain\"}\n",
    "pw_relax_node = build_node(ndata)"
   ]
  },
  {
   "cell_type": "markdown",
   "id": "d7c64768",
   "metadata": {},
   "source": [
    "In the `PwRelaxWorkChain`, one can set the relax type (`calculation` key) in the input namespace `base.pw.parameters`. Now we create a new node to update the pw parameters."
   ]
  },
  {
   "cell_type": "code",
   "execution_count": 14,
   "metadata": {},
   "outputs": [],
   "source": [
    "from aiida_worktree.decorator import node\n",
    "from aiida.engine import calcfunction\n",
    "\n",
    "\n",
    "@node()\n",
    "@calcfunction\n",
    "def pw_parameters(paras, relax_type):\n",
    "    paras1 = paras.clone()\n",
    "    paras1[\"CONTROL\"][\"calculation\"] = relax_type\n",
    "    return paras1"
   ]
  },
  {
   "cell_type": "markdown",
   "id": "d9a4cfd1",
   "metadata": {},
   "source": [
    "Now, we create the worktree to relax the structure of N2 molecule."
   ]
  },
  {
   "cell_type": "code",
   "execution_count": 15,
   "id": "ecb33623",
   "metadata": {},
   "outputs": [
    {
     "name": "stderr",
     "output_type": "stream",
     "text": [
      "[INFO] 2023-07-21 15:36:32 nodetree: Create NodeTree: test_add_multiply\n"
     ]
    }
   ],
   "source": [
    "nt = WorkTree(\"test_pw_relax\")\n",
    "# structure node\n",
    "nt.nodes.new(\"AiiDANode\", \"n2\", value=structure_n2)\n",
    "# pw node\n",
    "pw_relax1 = nt.nodes.new(pw_relax_node, name=\"pw_relax1\")\n",
    "pw_relax1.set({\n",
    "        \"base\": {\n",
    "                \"pw\": {\n",
    "                        \"code\": code,\n",
    "                        \"pseudos\": pseudos,\n",
    "                        \"metadata\": metadata\n",
    "                },\n",
    "                \"kpoints\": kpoints,\n",
    "                },\n",
    "        \n",
    "        })\n",
    "paras_node = nt.nodes.new(pw_parameters, \"parameters\",\n",
    "                          paras = paras,\n",
    "                          relax_type = \"relax\")\n",
    "nt.links.new(nt.nodes[\"n2\"].outputs[0], pw_relax1.inputs[\"structure\"])\n",
    "nt.links.new(paras_node.outputs[0], pw_relax1.inputs[\"base.pw.parameters\"])\n",
    "nt.submit(wait=True, timeout=200)"
   ]
  },
  {
   "cell_type": "code",
   "execution_count": 16,
   "id": "9f35add3",
   "metadata": {},
   "outputs": [
    {
     "name": "stdout",
     "output_type": "stream",
     "text": [
      "Energy of a relaxed N2 molecule: -547.232\n"
     ]
    }
   ],
   "source": [
    "nt.update()\n",
    "print('Energy of a relaxed N2 molecule: {:0.3f}'.format(pw_relax1.node.outputs.output_parameters.get_dict()[\"energy\"]))"
   ]
  },
  {
   "cell_type": "markdown",
   "id": "a063dc6b",
   "metadata": {},
   "source": [
    "Generate node graph from the AiiDA process:"
   ]
  },
  {
   "cell_type": "code",
   "execution_count": 17,
   "id": "8d6f280d",
   "metadata": {},
   "outputs": [
    {
     "data": {
      "image/svg+xml": "<?xml version=\"1.0\" encoding=\"UTF-8\" standalone=\"no\"?>\n<!DOCTYPE svg PUBLIC \"-//W3C//DTD SVG 1.1//EN\"\n \"http://www.w3.org/Graphics/SVG/1.1/DTD/svg11.dtd\">\n<!-- Generated by graphviz version 2.43.0 (0)\n -->\n<!-- Title: %3 Pages: 1 -->\n<svg width=\"1785pt\" height=\"900pt\"\n viewBox=\"0.00 0.00 1785.09 900.43\" xmlns=\"http://www.w3.org/2000/svg\" xmlns:xlink=\"http://www.w3.org/1999/xlink\">\n<g id=\"graph0\" class=\"graph\" transform=\"scale(1 1) rotate(0) translate(4 896.43)\">\n<title>%3</title>\n<polygon fill=\"white\" stroke=\"transparent\" points=\"-4,4 -4,-896.43 1781.09,-896.43 1781.09,4 -4,4\"/>\n<!-- N11264 -->\n<g id=\"node1\" class=\"node\">\n<title>N11264</title>\n<ellipse fill=\"#8cd499\" stroke=\"red\" stroke-width=\"6\" cx=\"892.09\" cy=\"-735.22\" rx=\"158.28\" ry=\"37.45\"/>\n<text text-anchor=\"middle\" x=\"892.09\" y=\"-746.52\" font-family=\"Times,serif\" font-size=\"14.00\">WorkTree: test_add_multiply (11264)</text>\n<text text-anchor=\"middle\" x=\"892.09\" y=\"-731.52\" font-family=\"Times,serif\" font-size=\"14.00\">State: finished</text>\n<text text-anchor=\"middle\" x=\"892.09\" y=\"-716.52\" font-family=\"Times,serif\" font-size=\"14.00\">Exit Code: 0</text>\n</g>\n<!-- N11269 -->\n<g id=\"node7\" class=\"node\">\n<title>N11269</title>\n<polygon fill=\"#de707f\" fill-opacity=\"0.466667\" stroke=\"black\" stroke-width=\"0\" points=\"1053.09,-631.74 907.09,-631.74 907.09,-578.74 1053.09,-578.74 1053.09,-631.74\"/>\n<text text-anchor=\"middle\" x=\"980.09\" y=\"-616.54\" font-family=\"Times,serif\" font-size=\"14.00\">pw_parameters (11269)</text>\n<text text-anchor=\"middle\" x=\"980.09\" y=\"-601.54\" font-family=\"Times,serif\" font-size=\"14.00\">State: finished</text>\n<text text-anchor=\"middle\" x=\"980.09\" y=\"-586.54\" font-family=\"Times,serif\" font-size=\"14.00\">Exit Code: 0</text>\n</g>\n<!-- N11264&#45;&gt;N11269 -->\n<g id=\"edge11\" class=\"edge\">\n<title>N11264&#45;&gt;N11269</title>\n<path fill=\"none\" stroke=\"#000000\" stroke-dasharray=\"1,5\" d=\"M917.07,-697.89C929.47,-679.85 944.37,-658.18 956.56,-640.45\"/>\n<polygon fill=\"#000000\" stroke=\"#000000\" points=\"959.53,-642.31 962.31,-632.09 953.76,-638.35 959.53,-642.31\"/>\n<text text-anchor=\"middle\" x=\"988.59\" y=\"-668.54\" font-family=\"Times,serif\" font-size=\"14.00\">CALL_CALC</text>\n<text text-anchor=\"middle\" x=\"988.59\" y=\"-653.54\" font-family=\"Times,serif\" font-size=\"14.00\">parameters</text>\n</g>\n<!-- N11282 -->\n<g id=\"node9\" class=\"node\">\n<title>N11282</title>\n<polygon fill=\"#e38851\" stroke=\"black\" stroke-width=\"0\" points=\"979.59,-410.74 804.59,-410.74 804.59,-357.74 979.59,-357.74 979.59,-410.74\"/>\n<text text-anchor=\"middle\" x=\"892.09\" y=\"-395.54\" font-family=\"Times,serif\" font-size=\"14.00\">PwRelaxWorkChain (11282)</text>\n<text text-anchor=\"middle\" x=\"892.09\" y=\"-380.54\" font-family=\"Times,serif\" font-size=\"14.00\">State: finished</text>\n<text text-anchor=\"middle\" x=\"892.09\" y=\"-365.54\" font-family=\"Times,serif\" font-size=\"14.00\">Exit Code: 0</text>\n</g>\n<!-- N11264&#45;&gt;N11282 -->\n<g id=\"edge8\" class=\"edge\">\n<title>N11264&#45;&gt;N11282</title>\n<path fill=\"none\" stroke=\"#000000\" stroke-dasharray=\"1,5\" d=\"M889.53,-697.46C887,-656.72 883.69,-589.05 885.09,-530.74 885.99,-493.36 888.18,-450.63 889.88,-421.19\"/>\n<polygon fill=\"#000000\" stroke=\"#000000\" points=\"893.38,-421.17 890.47,-410.98 886.39,-420.76 893.38,-421.17\"/>\n<text text-anchor=\"middle\" x=\"927.59\" y=\"-549.54\" font-family=\"Times,serif\" font-size=\"14.00\">CALL_WORK</text>\n<text text-anchor=\"middle\" x=\"927.59\" y=\"-534.54\" font-family=\"Times,serif\" font-size=\"14.00\">pw_relax1</text>\n</g>\n<!-- N7592 -->\n<g id=\"node2\" class=\"node\">\n<title>N7592</title>\n<ellipse fill=\"#8cd499\" stroke=\"black\" stroke-width=\"0\" cx=\"118.09\" cy=\"-865.56\" rx=\"118.17\" ry=\"26.74\"/>\n<text text-anchor=\"middle\" x=\"118.09\" y=\"-869.36\" font-family=\"Times,serif\" font-size=\"14.00\">InstalledCode (7592)</text>\n<text text-anchor=\"middle\" x=\"118.09\" y=\"-854.36\" font-family=\"Times,serif\" font-size=\"14.00\">Quantum ESPRESSO pw.x</text>\n</g>\n<!-- N7592&#45;&gt;N11264 -->\n<g id=\"edge3\" class=\"edge\">\n<title>N7592&#45;&gt;N11264</title>\n<path fill=\"none\" stroke=\"#000000\" stroke-dasharray=\"5,2\" d=\"M118.71,-838.6C120.58,-822.23 125.9,-802.09 140.09,-790.69 184.48,-755.03 516.02,-742.68 723.8,-738.43\"/>\n<polygon fill=\"#000000\" stroke=\"#000000\" points=\"723.98,-741.92 733.91,-738.22 723.84,-734.92 723.98,-741.92\"/>\n<text text-anchor=\"middle\" x=\"311.59\" y=\"-809.49\" font-family=\"Times,serif\" font-size=\"14.00\">INPUT_WORK</text>\n<text text-anchor=\"middle\" x=\"311.59\" y=\"-794.49\" font-family=\"Times,serif\" font-size=\"14.00\">nt__nodes__pw_relax1__properties__base__value__pw__code</text>\n</g>\n<!-- N7610 -->\n<g id=\"node3\" class=\"node\">\n<title>N7610</title>\n<ellipse fill=\"#8cd499\" stroke=\"black\" stroke-width=\"0\" cx=\"484.09\" cy=\"-865.56\" rx=\"66.89\" ry=\"18\"/>\n<text text-anchor=\"middle\" x=\"484.09\" y=\"-861.86\" font-family=\"Times,serif\" font-size=\"14.00\">UpfData (7610)</text>\n</g>\n<!-- N7610&#45;&gt;N11264 -->\n<g id=\"edge1\" class=\"edge\">\n<title>N7610&#45;&gt;N11264</title>\n<path fill=\"none\" stroke=\"#000000\" stroke-dasharray=\"5,2\" d=\"M483.43,-847.46C483.77,-830.45 487.19,-804.9 503.09,-790.69 536.02,-761.27 635.2,-747.68 725.17,-741.43\"/>\n<polygon fill=\"#000000\" stroke=\"#000000\" points=\"725.5,-744.91 735.24,-740.75 725.03,-737.93 725.5,-744.91\"/>\n<text text-anchor=\"middle\" x=\"695.59\" y=\"-809.49\" font-family=\"Times,serif\" font-size=\"14.00\">INPUT_WORK</text>\n<text text-anchor=\"middle\" x=\"695.59\" y=\"-794.49\" font-family=\"Times,serif\" font-size=\"14.00\">nt__nodes__pw_relax1__properties__base__value__pw__pseudos__N</text>\n</g>\n<!-- N11211 -->\n<g id=\"node4\" class=\"node\">\n<title>N11211</title>\n<ellipse fill=\"#8cd499\" stroke=\"black\" stroke-width=\"0\" cx=\"892.09\" cy=\"-865.56\" rx=\"97.66\" ry=\"26.74\"/>\n<text text-anchor=\"middle\" x=\"892.09\" y=\"-869.36\" font-family=\"Times,serif\" font-size=\"14.00\">StructureData (11211)</text>\n<text text-anchor=\"middle\" x=\"892.09\" y=\"-854.36\" font-family=\"Times,serif\" font-size=\"14.00\">N2</text>\n</g>\n<!-- N11211&#45;&gt;N11264 -->\n<g id=\"edge2\" class=\"edge\">\n<title>N11211&#45;&gt;N11264</title>\n<path fill=\"none\" stroke=\"#000000\" stroke-dasharray=\"5,2\" d=\"M892.09,-838.59C892.09,-822.65 892.09,-801.75 892.09,-783\"/>\n<polygon fill=\"#000000\" stroke=\"#000000\" points=\"895.59,-782.85 892.09,-772.85 888.59,-782.85 895.59,-782.85\"/>\n<text text-anchor=\"middle\" x=\"1010.09\" y=\"-809.49\" font-family=\"Times,serif\" font-size=\"14.00\">INPUT_WORK</text>\n<text text-anchor=\"middle\" x=\"1010.09\" y=\"-794.49\" font-family=\"Times,serif\" font-size=\"14.00\">nt__nodes__n2__properties__value__value</text>\n</g>\n<!-- N11212 -->\n<g id=\"node5\" class=\"node\">\n<title>N11212</title>\n<ellipse fill=\"#8cd499\" stroke=\"black\" stroke-width=\"0\" cx=\"1151.09\" cy=\"-865.56\" rx=\"55.79\" ry=\"18\"/>\n<text text-anchor=\"middle\" x=\"1151.09\" y=\"-861.86\" font-family=\"Times,serif\" font-size=\"14.00\">Dict (11212)</text>\n</g>\n<!-- N11212&#45;&gt;N11264 -->\n<g id=\"edge5\" class=\"edge\">\n<title>N11212&#45;&gt;N11264</title>\n<path fill=\"none\" stroke=\"#000000\" stroke-dasharray=\"5,2\" d=\"M1150.71,-847.37C1149.39,-830.54 1144.7,-805.34 1129.09,-790.69 1114.27,-776.79 1077.07,-765.63 1036.43,-757.13\"/>\n<polygon fill=\"#000000\" stroke=\"#000000\" points=\"1037.09,-753.69 1026.59,-755.14 1035.7,-760.56 1037.09,-753.69\"/>\n<text text-anchor=\"middle\" x=\"1286.09\" y=\"-809.49\" font-family=\"Times,serif\" font-size=\"14.00\">INPUT_WORK</text>\n<text text-anchor=\"middle\" x=\"1286.09\" y=\"-794.49\" font-family=\"Times,serif\" font-size=\"14.00\">nt__nodes__parameters__properties__paras__value</text>\n</g>\n<!-- N11213 -->\n<g id=\"node6\" class=\"node\">\n<title>N11213</title>\n<ellipse fill=\"#8cd499\" stroke=\"black\" stroke-width=\"0\" cx=\"1456.09\" cy=\"-865.56\" rx=\"151.14\" ry=\"26.74\"/>\n<text text-anchor=\"middle\" x=\"1456.09\" y=\"-869.36\" font-family=\"Times,serif\" font-size=\"14.00\">KpointsData (11213)</text>\n<text text-anchor=\"middle\" x=\"1456.09\" y=\"-854.36\" font-family=\"Times,serif\" font-size=\"14.00\">Kpoints mesh: 1x1x1 (+0.0,0.0,0.0)</text>\n</g>\n<!-- N11213&#45;&gt;N11264 -->\n<g id=\"edge4\" class=\"edge\">\n<title>N11213&#45;&gt;N11264</title>\n<path fill=\"none\" stroke=\"#000000\" stroke-dasharray=\"5,2\" d=\"M1454.25,-838.65C1451.65,-822.3 1445.49,-802.17 1431.09,-790.69 1402.1,-767.6 1204.46,-752.29 1056.84,-743.94\"/>\n<polygon fill=\"#000000\" stroke=\"#000000\" points=\"1056.93,-740.44 1046.75,-743.37 1056.54,-747.43 1056.93,-740.44\"/>\n<text text-anchor=\"middle\" x=\"1613.09\" y=\"-809.49\" font-family=\"Times,serif\" font-size=\"14.00\">INPUT_WORK</text>\n<text text-anchor=\"middle\" x=\"1613.09\" y=\"-794.49\" font-family=\"Times,serif\" font-size=\"14.00\">nt__nodes__pw_relax1__properties__base__value__kpoints</text>\n</g>\n<!-- N11270 -->\n<g id=\"node8\" class=\"node\">\n<title>N11270</title>\n<ellipse fill=\"#8cd499\" stroke=\"black\" stroke-width=\"0\" cx=\"972.09\" cy=\"-494.74\" rx=\"55.79\" ry=\"18\"/>\n<text text-anchor=\"middle\" x=\"972.09\" y=\"-491.04\" font-family=\"Times,serif\" font-size=\"14.00\">Dict (11270)</text>\n</g>\n<!-- N11269&#45;&gt;N11270 -->\n<g id=\"edge23\" class=\"edge\">\n<title>N11269&#45;&gt;N11270</title>\n<path fill=\"none\" stroke=\"#000000\" d=\"M978.19,-578.53C976.96,-561.87 975.36,-540.2 974.11,-523.21\"/>\n<polygon fill=\"#000000\" stroke=\"#000000\" points=\"977.57,-522.53 973.35,-512.82 970.59,-523.05 977.57,-522.53\"/>\n<text text-anchor=\"middle\" x=\"1002.09\" y=\"-549.54\" font-family=\"Times,serif\" font-size=\"14.00\">CREATE</text>\n<text text-anchor=\"middle\" x=\"1002.09\" y=\"-534.54\" font-family=\"Times,serif\" font-size=\"14.00\">result</text>\n</g>\n<!-- N11270&#45;&gt;N11282 -->\n<g id=\"edge14\" class=\"edge\">\n<title>N11270&#45;&gt;N11282</title>\n<path fill=\"none\" stroke=\"#000000\" stroke-dasharray=\"5,2\" d=\"M959.59,-476.79C948.26,-461.42 931.22,-438.31 917.1,-419.16\"/>\n<polygon fill=\"#000000\" stroke=\"#000000\" points=\"919.8,-416.92 911.05,-410.95 914.16,-421.08 919.8,-416.92\"/>\n<text text-anchor=\"middle\" x=\"1010.09\" y=\"-447.54\" font-family=\"Times,serif\" font-size=\"14.00\">INPUT_WORK</text>\n<text text-anchor=\"middle\" x=\"1010.09\" y=\"-432.54\" font-family=\"Times,serif\" font-size=\"14.00\">base__pw__parameters</text>\n</g>\n<!-- N11291 -->\n<g id=\"node10\" class=\"node\">\n<title>N11291</title>\n<polygon fill=\"#e38851\" stroke=\"black\" stroke-width=\"0\" points=\"977.09,-291.74 807.09,-291.74 807.09,-238.74 977.09,-238.74 977.09,-291.74\"/>\n<text text-anchor=\"middle\" x=\"892.09\" y=\"-276.54\" font-family=\"Times,serif\" font-size=\"14.00\">PwBaseWorkChain (11291)</text>\n<text text-anchor=\"middle\" x=\"892.09\" y=\"-261.54\" font-family=\"Times,serif\" font-size=\"14.00\">State: finished</text>\n<text text-anchor=\"middle\" x=\"892.09\" y=\"-246.54\" font-family=\"Times,serif\" font-size=\"14.00\">Exit Code: 0</text>\n</g>\n<!-- N11282&#45;&gt;N11291 -->\n<g id=\"edge18\" class=\"edge\">\n<title>N11282&#45;&gt;N11291</title>\n<path fill=\"none\" stroke=\"#000000\" stroke-dasharray=\"1,5\" d=\"M892.09,-357.56C892.09,-341.26 892.09,-319.92 892.09,-301.97\"/>\n<polygon fill=\"#000000\" stroke=\"#000000\" points=\"895.59,-301.86 892.09,-291.86 888.59,-301.86 895.59,-301.86\"/>\n<text text-anchor=\"middle\" x=\"934.59\" y=\"-328.54\" font-family=\"Times,serif\" font-size=\"14.00\">CALL_WORK</text>\n<text text-anchor=\"middle\" x=\"934.59\" y=\"-313.54\" font-family=\"Times,serif\" font-size=\"14.00\">iteration_01</text>\n</g>\n<!-- N11296 -->\n<g id=\"node12\" class=\"node\">\n<title>N11296</title>\n<ellipse fill=\"#8cd499\" stroke=\"black\" stroke-width=\"0\" cx=\"338.09\" cy=\"-26.87\" rx=\"92.76\" ry=\"26.74\"/>\n<text text-anchor=\"middle\" x=\"338.09\" y=\"-30.67\" font-family=\"Times,serif\" font-size=\"14.00\">RemoteData (11296)</text>\n<text text-anchor=\"middle\" x=\"338.09\" y=\"-15.67\" font-family=\"Times,serif\" font-size=\"14.00\">@localhost</text>\n</g>\n<!-- N11282&#45;&gt;N11296 -->\n<g id=\"edge10\" class=\"edge\">\n<title>N11282&#45;&gt;N11296</title>\n<path fill=\"none\" stroke=\"#000000\" stroke-dasharray=\"5,2\" d=\"M804.47,-376.97C743.69,-371.08 661.35,-360.01 591.09,-339.74 540.62,-325.18 529.68,-315.99 483.09,-291.74 428.8,-263.48 398.84,-271.8 365.09,-220.74 333.87,-173.52 331.94,-105.57 334.34,-64.2\"/>\n<polygon fill=\"#000000\" stroke=\"#000000\" points=\"337.84,-64.25 335.04,-54.03 330.86,-63.76 337.84,-64.25\"/>\n<text text-anchor=\"middle\" x=\"404.09\" y=\"-209.54\" font-family=\"Times,serif\" font-size=\"14.00\">RETURN</text>\n<text text-anchor=\"middle\" x=\"404.09\" y=\"-194.54\" font-family=\"Times,serif\" font-size=\"14.00\">remote_folder</text>\n</g>\n<!-- N11302 -->\n<g id=\"node13\" class=\"node\">\n<title>N11302</title>\n<ellipse fill=\"#8cd499\" stroke=\"black\" stroke-width=\"0\" cx=\"529.09\" cy=\"-26.87\" rx=\"80.69\" ry=\"18\"/>\n<text text-anchor=\"middle\" x=\"529.09\" y=\"-23.17\" font-family=\"Times,serif\" font-size=\"14.00\">FolderData (11302)</text>\n</g>\n<!-- N11282&#45;&gt;N11302 -->\n<g id=\"edge24\" class=\"edge\">\n<title>N11282&#45;&gt;N11302</title>\n<path fill=\"none\" stroke=\"#000000\" stroke-dasharray=\"5,2\" d=\"M804.34,-373.36C693.3,-355.46 507.55,-306.13 433.09,-172.74 407.86,-127.55 459.54,-77.88 496.39,-50.02\"/>\n<polygon fill=\"#000000\" stroke=\"#000000\" points=\"498.47,-52.83 504.45,-44.09 494.33,-47.19 498.47,-52.83\"/>\n<text text-anchor=\"middle\" x=\"493.59\" y=\"-209.54\" font-family=\"Times,serif\" font-size=\"14.00\">RETURN</text>\n<text text-anchor=\"middle\" x=\"493.59\" y=\"-194.54\" font-family=\"Times,serif\" font-size=\"14.00\">retrieved</text>\n</g>\n<!-- N11303 -->\n<g id=\"node14\" class=\"node\">\n<title>N11303</title>\n<ellipse fill=\"#8cd499\" stroke=\"black\" stroke-width=\"0\" cx=\"1144.09\" cy=\"-26.87\" rx=\"86.03\" ry=\"26.74\"/>\n<text text-anchor=\"middle\" x=\"1144.09\" y=\"-30.67\" font-family=\"Times,serif\" font-size=\"14.00\">BandsData (11303)</text>\n<text text-anchor=\"middle\" x=\"1144.09\" y=\"-15.67\" font-family=\"Times,serif\" font-size=\"14.00\">(Path of 1 kpts)</text>\n</g>\n<!-- N11282&#45;&gt;N11303 -->\n<g id=\"edge20\" class=\"edge\">\n<title>N11282&#45;&gt;N11303</title>\n<path fill=\"none\" stroke=\"#000000\" stroke-dasharray=\"5,2\" d=\"M979.64,-381.27C1111.13,-372.89 1354.74,-335.02 1454.09,-172.74 1510.1,-81.25 1348.42,-78.68 1244.09,-53.74 1235.66,-51.73 1226.85,-49.55 1218.11,-47.35\"/>\n<polygon fill=\"#000000\" stroke=\"#000000\" points=\"1218.84,-43.92 1208.28,-44.85 1217.11,-50.71 1218.84,-43.92\"/>\n<text text-anchor=\"middle\" x=\"1474.09\" y=\"-209.54\" font-family=\"Times,serif\" font-size=\"14.00\">RETURN</text>\n<text text-anchor=\"middle\" x=\"1474.09\" y=\"-194.54\" font-family=\"Times,serif\" font-size=\"14.00\">output_band</text>\n</g>\n<!-- N11304 -->\n<g id=\"node15\" class=\"node\">\n<title>N11304</title>\n<ellipse fill=\"#8cd499\" stroke=\"black\" stroke-width=\"0\" cx=\"722.09\" cy=\"-26.87\" rx=\"94.48\" ry=\"18\"/>\n<text text-anchor=\"middle\" x=\"722.09\" y=\"-23.17\" font-family=\"Times,serif\" font-size=\"14.00\">TrajectoryData (11304)</text>\n</g>\n<!-- N11282&#45;&gt;N11304 -->\n<g id=\"edge17\" class=\"edge\">\n<title>N11282&#45;&gt;N11304</title>\n<path fill=\"none\" stroke=\"#000000\" stroke-dasharray=\"5,2\" d=\"M815.48,-357.65C739.19,-327.32 627.53,-268.44 585.09,-172.74 575.54,-151.21 571.21,-138.78 585.09,-119.74 600.49,-98.61 618.47,-114.85 641.09,-101.74 663.73,-88.62 685.42,-68.28 700.64,-52.27\"/>\n<polygon fill=\"#000000\" stroke=\"#000000\" points=\"703.33,-54.51 707.57,-44.8 698.2,-49.75 703.33,-54.51\"/>\n<text text-anchor=\"middle\" x=\"660.09\" y=\"-209.54\" font-family=\"Times,serif\" font-size=\"14.00\">RETURN</text>\n<text text-anchor=\"middle\" x=\"660.09\" y=\"-194.54\" font-family=\"Times,serif\" font-size=\"14.00\">output_trajectory</text>\n</g>\n<!-- N11305 -->\n<g id=\"node16\" class=\"node\">\n<title>N11305</title>\n<ellipse fill=\"#8cd499\" stroke=\"black\" stroke-width=\"0\" cx=\"1351.09\" cy=\"-26.87\" rx=\"97.66\" ry=\"26.74\"/>\n<text text-anchor=\"middle\" x=\"1351.09\" y=\"-30.67\" font-family=\"Times,serif\" font-size=\"14.00\">StructureData (11305)</text>\n<text text-anchor=\"middle\" x=\"1351.09\" y=\"-15.67\" font-family=\"Times,serif\" font-size=\"14.00\">N2</text>\n</g>\n<!-- N11282&#45;&gt;N11305 -->\n<g id=\"edge7\" class=\"edge\">\n<title>N11282&#45;&gt;N11305</title>\n<path fill=\"none\" stroke=\"#000000\" stroke-dasharray=\"5,2\" d=\"M979.91,-380.62C1056.84,-376.56 1171.04,-366.18 1267.09,-339.74 1317.34,-325.91 1327.12,-314.34 1374.09,-291.74 1436.24,-261.84 1476.16,-279.62 1512.09,-220.74 1551.11,-156.77 1465.25,-91.8 1404.55,-55.98\"/>\n<polygon fill=\"#000000\" stroke=\"#000000\" points=\"1406.2,-52.89 1395.79,-50.91 1402.69,-58.95 1406.2,-52.89\"/>\n<text text-anchor=\"middle\" x=\"1565.59\" y=\"-209.54\" font-family=\"Times,serif\" font-size=\"14.00\">RETURN</text>\n<text text-anchor=\"middle\" x=\"1565.59\" y=\"-194.54\" font-family=\"Times,serif\" font-size=\"14.00\">output_structure</text>\n</g>\n<!-- N11306 -->\n<g id=\"node17\" class=\"node\">\n<title>N11306</title>\n<ellipse fill=\"#8cd499\" stroke=\"black\" stroke-width=\"0\" cx=\"984.09\" cy=\"-26.87\" rx=\"55.79\" ry=\"18\"/>\n<text text-anchor=\"middle\" x=\"984.09\" y=\"-23.17\" font-family=\"Times,serif\" font-size=\"14.00\">Dict (11306)</text>\n</g>\n<!-- N11282&#45;&gt;N11306 -->\n<g id=\"edge21\" class=\"edge\">\n<title>N11282&#45;&gt;N11306</title>\n<path fill=\"none\" stroke=\"#000000\" stroke-dasharray=\"5,2\" d=\"M968.98,-357.69C1046.25,-327.31 1160.61,-268.34 1209.09,-172.74 1219.74,-151.73 1220.75,-140.21 1209.09,-119.74 1171,-52.91 1122.54,-76.58 1049.09,-53.74 1041.42,-51.36 1033.38,-48.48 1025.67,-45.52\"/>\n<polygon fill=\"#000000\" stroke=\"#000000\" points=\"1026.72,-42.18 1016.13,-41.77 1024.16,-48.69 1026.72,-42.18\"/>\n<text text-anchor=\"middle\" x=\"1248.09\" y=\"-209.54\" font-family=\"Times,serif\" font-size=\"14.00\">RETURN</text>\n<text text-anchor=\"middle\" x=\"1248.09\" y=\"-194.54\" font-family=\"Times,serif\" font-size=\"14.00\">output_parameters</text>\n</g>\n<!-- N11294 -->\n<g id=\"node11\" class=\"node\">\n<title>N11294</title>\n<polygon fill=\"#de707f\" stroke=\"black\" stroke-width=\"0\" points=\"963.59,-172.74 820.59,-172.74 820.59,-119.74 963.59,-119.74 963.59,-172.74\"/>\n<text text-anchor=\"middle\" x=\"892.09\" y=\"-157.54\" font-family=\"Times,serif\" font-size=\"14.00\">PwCalculation (11294)</text>\n<text text-anchor=\"middle\" x=\"892.09\" y=\"-142.54\" font-family=\"Times,serif\" font-size=\"14.00\">State: finished</text>\n<text text-anchor=\"middle\" x=\"892.09\" y=\"-127.54\" font-family=\"Times,serif\" font-size=\"14.00\">Exit Code: 0</text>\n</g>\n<!-- N11291&#45;&gt;N11294 -->\n<g id=\"edge28\" class=\"edge\">\n<title>N11291&#45;&gt;N11294</title>\n<path fill=\"none\" stroke=\"#000000\" stroke-dasharray=\"1,5\" d=\"M892.09,-238.56C892.09,-222.26 892.09,-200.92 892.09,-182.97\"/>\n<polygon fill=\"#000000\" stroke=\"#000000\" points=\"895.59,-182.86 892.09,-172.86 888.59,-182.86 895.59,-182.86\"/>\n<text text-anchor=\"middle\" x=\"931.59\" y=\"-209.54\" font-family=\"Times,serif\" font-size=\"14.00\">CALL_CALC</text>\n<text text-anchor=\"middle\" x=\"931.59\" y=\"-194.54\" font-family=\"Times,serif\" font-size=\"14.00\">iteration_01</text>\n</g>\n<!-- N11291&#45;&gt;N11296 -->\n<g id=\"edge22\" class=\"edge\">\n<title>N11291&#45;&gt;N11296</title>\n<path fill=\"none\" stroke=\"#000000\" stroke-dasharray=\"5,2\" d=\"M806.84,-263.78C735.92,-260.99 633.31,-251.27 549.09,-220.74 465.63,-190.49 395.79,-108.36 361.28,-61.61\"/>\n<polygon fill=\"#000000\" stroke=\"#000000\" points=\"363.96,-59.34 355.25,-53.31 358.3,-63.46 363.96,-59.34\"/>\n<text text-anchor=\"middle\" x=\"503.09\" y=\"-150.04\" font-family=\"Times,serif\" font-size=\"14.00\">RETURN</text>\n<text text-anchor=\"middle\" x=\"503.09\" y=\"-135.04\" font-family=\"Times,serif\" font-size=\"14.00\">remote_folder</text>\n</g>\n<!-- N11291&#45;&gt;N11302 -->\n<g id=\"edge6\" class=\"edge\">\n<title>N11291&#45;&gt;N11302</title>\n<path fill=\"none\" stroke=\"#000000\" stroke-dasharray=\"5,2\" d=\"M806.96,-243.98C782.52,-237.39 756.01,-229.49 732.09,-220.74 726.16,-218.57 634.43,-176.11 629.09,-172.74 587.17,-146.28 568.31,-144.41 543.09,-101.74 534.8,-87.73 531.27,-69.83 529.82,-55.17\"/>\n<polygon fill=\"#000000\" stroke=\"#000000\" points=\"533.31,-54.88 529.1,-45.16 526.33,-55.39 533.31,-54.88\"/>\n<text text-anchor=\"middle\" x=\"656.59\" y=\"-150.04\" font-family=\"Times,serif\" font-size=\"14.00\">RETURN</text>\n<text text-anchor=\"middle\" x=\"656.59\" y=\"-135.04\" font-family=\"Times,serif\" font-size=\"14.00\">retrieved</text>\n</g>\n<!-- N11291&#45;&gt;N11303 -->\n<g id=\"edge12\" class=\"edge\">\n<title>N11291&#45;&gt;N11303</title>\n<path fill=\"none\" stroke=\"#000000\" stroke-dasharray=\"5,2\" d=\"M977.35,-249.05C1024.03,-236.37 1079.13,-213.5 1113.09,-172.74 1138.38,-142.38 1144.48,-96.28 1145.31,-64.27\"/>\n<polygon fill=\"#000000\" stroke=\"#000000\" points=\"1148.81,-64.04 1145.41,-54 1141.82,-63.97 1148.81,-64.04\"/>\n<text text-anchor=\"middle\" x=\"1171.09\" y=\"-150.04\" font-family=\"Times,serif\" font-size=\"14.00\">RETURN</text>\n<text text-anchor=\"middle\" x=\"1171.09\" y=\"-135.04\" font-family=\"Times,serif\" font-size=\"14.00\">output_band</text>\n</g>\n<!-- N11291&#45;&gt;N11304 -->\n<g id=\"edge19\" class=\"edge\">\n<title>N11291&#45;&gt;N11304</title>\n<path fill=\"none\" stroke=\"#000000\" stroke-dasharray=\"5,2\" d=\"M815.06,-238.72C781.26,-224.1 743.56,-202.6 718.09,-172.74 688.14,-137.64 681.16,-116.03 694.09,-71.74 695.95,-65.37 699.05,-59.03 702.52,-53.25\"/>\n<polygon fill=\"#000000\" stroke=\"#000000\" points=\"705.59,-54.95 708.17,-44.68 699.74,-51.1 705.59,-54.95\"/>\n<text text-anchor=\"middle\" x=\"765.09\" y=\"-150.04\" font-family=\"Times,serif\" font-size=\"14.00\">RETURN</text>\n<text text-anchor=\"middle\" x=\"765.09\" y=\"-135.04\" font-family=\"Times,serif\" font-size=\"14.00\">output_trajectory</text>\n</g>\n<!-- N11291&#45;&gt;N11305 -->\n<g id=\"edge27\" class=\"edge\">\n<title>N11291&#45;&gt;N11305</title>\n<path fill=\"none\" stroke=\"#000000\" stroke-dasharray=\"5,2\" d=\"M977.22,-261.73C1099.38,-257.27 1312.51,-245.94 1337.09,-220.74 1377.23,-179.58 1369.93,-107.17 1360.7,-63.74\"/>\n<polygon fill=\"#000000\" stroke=\"#000000\" points=\"1364.09,-62.87 1358.46,-53.89 1357.26,-64.41 1364.09,-62.87\"/>\n<text text-anchor=\"middle\" x=\"1411.59\" y=\"-150.04\" font-family=\"Times,serif\" font-size=\"14.00\">RETURN</text>\n<text text-anchor=\"middle\" x=\"1411.59\" y=\"-135.04\" font-family=\"Times,serif\" font-size=\"14.00\">output_structure</text>\n</g>\n<!-- N11291&#45;&gt;N11306 -->\n<g id=\"edge29\" class=\"edge\">\n<title>N11291&#45;&gt;N11306</title>\n<path fill=\"none\" stroke=\"#000000\" stroke-dasharray=\"5,2\" d=\"M955.26,-238.5C962.68,-233.46 969.57,-227.58 975.09,-220.74 996.39,-194.35 1016.49,-104.6 1008.09,-71.74 1006.52,-65.6 1003.89,-59.39 1000.93,-53.65\"/>\n<polygon fill=\"#000000\" stroke=\"#000000\" points=\"1003.75,-51.52 995.79,-44.54 997.66,-54.97 1003.75,-51.52\"/>\n<text text-anchor=\"middle\" x=\"1058.09\" y=\"-150.04\" font-family=\"Times,serif\" font-size=\"14.00\">RETURN</text>\n<text text-anchor=\"middle\" x=\"1058.09\" y=\"-135.04\" font-family=\"Times,serif\" font-size=\"14.00\">output_parameters</text>\n</g>\n<!-- N11294&#45;&gt;N11296 -->\n<g id=\"edge13\" class=\"edge\">\n<title>N11294&#45;&gt;N11296</title>\n<path fill=\"none\" stroke=\"#000000\" d=\"M820.57,-122.78C815.7,-121.64 810.84,-120.61 806.09,-119.74 699.12,-100.17 668.74,-122.93 562.09,-101.74 505.96,-90.59 444.36,-69.6 399.99,-52.84\"/>\n<polygon fill=\"#000000\" stroke=\"#000000\" points=\"401.1,-49.52 390.51,-49.22 398.6,-56.06 401.1,-49.52\"/>\n<text text-anchor=\"middle\" x=\"601.09\" y=\"-90.54\" font-family=\"Times,serif\" font-size=\"14.00\">CREATE</text>\n<text text-anchor=\"middle\" x=\"601.09\" y=\"-75.54\" font-family=\"Times,serif\" font-size=\"14.00\">remote_folder</text>\n</g>\n<!-- N11294&#45;&gt;N11302 -->\n<g id=\"edge26\" class=\"edge\">\n<title>N11294&#45;&gt;N11302</title>\n<path fill=\"none\" stroke=\"#000000\" d=\"M820.44,-123.4C815.6,-122.1 810.78,-120.87 806.09,-119.74 763.89,-109.56 751.48,-114.82 710.09,-101.74 679.36,-92.03 673.82,-84.16 644.09,-71.74 622.81,-62.86 599.03,-53.67 578.65,-46.01\"/>\n<polygon fill=\"#000000\" stroke=\"#000000\" points=\"579.84,-42.71 569.24,-42.49 577.39,-49.27 579.84,-42.71\"/>\n<text text-anchor=\"middle\" x=\"736.09\" y=\"-90.54\" font-family=\"Times,serif\" font-size=\"14.00\">CREATE</text>\n<text text-anchor=\"middle\" x=\"736.09\" y=\"-75.54\" font-family=\"Times,serif\" font-size=\"14.00\">retrieved</text>\n</g>\n<!-- N11294&#45;&gt;N11303 -->\n<g id=\"edge25\" class=\"edge\">\n<title>N11294&#45;&gt;N11303</title>\n<path fill=\"none\" stroke=\"#000000\" d=\"M963.77,-122.58C979.99,-116.55 996.9,-109.51 1012.09,-101.74 1033.16,-90.96 1035.67,-83.71 1056.09,-71.74 1066.33,-65.74 1077.49,-59.76 1088.33,-54.23\"/>\n<polygon fill=\"#000000\" stroke=\"#000000\" points=\"1089.97,-57.33 1097.33,-49.71 1086.82,-51.07 1089.97,-57.33\"/>\n<text text-anchor=\"middle\" x=\"1090.09\" y=\"-90.54\" font-family=\"Times,serif\" font-size=\"14.00\">CREATE</text>\n<text text-anchor=\"middle\" x=\"1090.09\" y=\"-75.54\" font-family=\"Times,serif\" font-size=\"14.00\">output_band</text>\n</g>\n<!-- N11294&#45;&gt;N11304 -->\n<g id=\"edge15\" class=\"edge\">\n<title>N11294&#45;&gt;N11304</title>\n<path fill=\"none\" stroke=\"#000000\" d=\"M826.05,-119.74C815.31,-114.45 804.6,-108.42 795.09,-101.74 779.91,-91.09 779.1,-84.95 766.09,-71.74 759.78,-65.33 752.91,-58.44 746.52,-52.07\"/>\n<polygon fill=\"#000000\" stroke=\"#000000\" points=\"748.85,-49.45 739.29,-44.88 743.91,-54.42 748.85,-49.45\"/>\n<text text-anchor=\"middle\" x=\"842.09\" y=\"-90.54\" font-family=\"Times,serif\" font-size=\"14.00\">CREATE</text>\n<text text-anchor=\"middle\" x=\"842.09\" y=\"-75.54\" font-family=\"Times,serif\" font-size=\"14.00\">output_trajectory</text>\n</g>\n<!-- N11294&#45;&gt;N11305 -->\n<g id=\"edge9\" class=\"edge\">\n<title>N11294&#45;&gt;N11305</title>\n<path fill=\"none\" stroke=\"#000000\" d=\"M963.65,-123.04C968.52,-121.83 973.36,-120.72 978.09,-119.74 1043.84,-106.15 1062.56,-116.37 1128.09,-101.74 1182.78,-89.53 1243.02,-69.14 1287.08,-52.88\"/>\n<polygon fill=\"#000000\" stroke=\"#000000\" points=\"1288.36,-56.13 1296.51,-49.37 1285.92,-49.57 1288.36,-56.13\"/>\n<text text-anchor=\"middle\" x=\"1277.59\" y=\"-90.54\" font-family=\"Times,serif\" font-size=\"14.00\">CREATE</text>\n<text text-anchor=\"middle\" x=\"1277.59\" y=\"-75.54\" font-family=\"Times,serif\" font-size=\"14.00\">output_structure</text>\n</g>\n<!-- N11294&#45;&gt;N11306 -->\n<g id=\"edge16\" class=\"edge\">\n<title>N11294&#45;&gt;N11306</title>\n<path fill=\"none\" stroke=\"#000000\" d=\"M891.74,-119.66C892.72,-104.48 896.15,-85.56 906.09,-71.74 914.18,-60.48 926.11,-51.74 938.22,-45.13\"/>\n<polygon fill=\"#000000\" stroke=\"#000000\" points=\"940.09,-48.11 947.45,-40.49 936.95,-41.85 940.09,-48.11\"/>\n<text text-anchor=\"middle\" x=\"957.09\" y=\"-90.54\" font-family=\"Times,serif\" font-size=\"14.00\">CREATE</text>\n<text text-anchor=\"middle\" x=\"957.09\" y=\"-75.54\" font-family=\"Times,serif\" font-size=\"14.00\">output_parameters</text>\n</g>\n</g>\n</svg>\n",
      "text/plain": [
       "<graphviz.graphs.Digraph at 0x7f96f8cfc0d0>"
      ]
     },
     "execution_count": 17,
     "metadata": {},
     "output_type": "execute_result"
    }
   ],
   "source": [
    "from aiida_worktree.utils import generate_node_graph\n",
    "generate_node_graph(nt.pk)"
   ]
  },
  {
   "cell_type": "code",
   "execution_count": null,
   "id": "8465178d",
   "metadata": {},
   "outputs": [],
   "source": []
  }
 ],
 "metadata": {
  "kernelspec": {
   "display_name": "Python 3.10.4 ('scinode')",
   "language": "python",
   "name": "python3"
  },
  "language_info": {
   "codemirror_mode": {
    "name": "ipython",
    "version": 3
   },
   "file_extension": ".py",
   "mimetype": "text/x-python",
   "name": "python",
   "nbconvert_exporter": "python",
   "pygments_lexer": "ipython3",
   "version": "3.10.4"
  },
  "vscode": {
   "interpreter": {
    "hash": "2f450c1ff08798c4974437dd057310afef0de414c25d1fd960ad375311c3f6ff"
   }
  }
 },
 "nbformat": 4,
 "nbformat_minor": 5
}
